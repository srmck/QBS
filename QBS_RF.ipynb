{
 "cells": [
  {
   "cell_type": "markdown",
   "id": "46f0b154-1ba8-4aaa-8ee9-7e4bb0ec9f6c",
   "metadata": {
    "tags": []
   },
   "source": [
    "***\n",
    "# Basic constants and functions:\n",
    "***"
   ]
  },
  {
   "cell_type": "code",
   "execution_count": 1,
   "id": "6d093f52-76e5-43cb-aa13-4d128e04174f",
   "metadata": {
    "tags": []
   },
   "outputs": [],
   "source": [
    "import numpy as np\n",
    "import sympy as sym\n",
    "import scipy as sc\n",
    "import matplotlib.pyplot as plt\n",
    "import scienceplots\n",
    "import time\n",
    "from scipy.optimize import curve_fit\n",
    "from scipy.signal import hilbert,convolve\n",
    "from scipy.fft import fft,ifft\n",
    "from scipy.integrate import quad,simpson\n",
    "\n",
    "plt.style.use(['science','notebook', 'grid', 'default', 'bright'])\n",
    "\n",
    "plot_height = 8    #Plot size parameters\n",
    "plot_width = plot_height*1.618\n",
    "\n",
    "SMALL_SIZE = 30    #used to adjust figure font size\n",
    "MEDIUM_SIZE = 40\n",
    "BIGGER_SIZE = 50\n",
    "\n",
    "plt.rc('font', size=SMALL_SIZE)          # controls default text sizes\n",
    "plt.rc('axes', titlesize=SMALL_SIZE)     # fontsize of the axes title\n",
    "plt.rc('axes', labelsize=MEDIUM_SIZE)    # fontsize of the x and y labels\n",
    "plt.rc('xtick', labelsize=SMALL_SIZE)    # fontsize of the tick labels\n",
    "plt.rc('ytick', labelsize=SMALL_SIZE)    # fontsize of the tick labels\n",
    "plt.rc('legend', fontsize=SMALL_SIZE)    # legend fontsize\n",
    "plt.rc('figure', titlesize=BIGGER_SIZE)  # fontsize of the figure title\n",
    "plt.rc('axes', titlesize=BIGGER_SIZE)    # actually gets title font size (glitch in matplotlib?)\n",
    "\n",
    "sym.init_printing()\n",
    "\n",
    "xp = 1/np.sqrt(2)*np.array([[1],[1]]) #spin states\n",
    "xm = 1/np.sqrt(2)*np.array([[1],[-1]])\n",
    "yp = 1/np.sqrt(2)*np.array([[1],[1j]])\n",
    "ym = 1/np.sqrt(2)*np.array([[1],[-1j]])\n",
    "zp = np.array([[1],[0]])\n",
    "zm = np.array([[0],[1]])\n",
    "\n",
    "sx = np.array([[0,1],[1,0]]) #Pauli operators\n",
    "sy = np.array([[0,-1j],[1j,0]])\n",
    "sz = np.array([[1,0],[0,-1]])\n",
    "\n",
    "def pol(wf):\n",
    "    \"\"\"Returns polarization vector from wavefuction.\"\"\"\n",
    "    temp = [np.dot(i,wf) for i in [sx,sy,sz]]\n",
    "    return np.array([np.real(np.dot(wf.conj().T,temp[i])[0][0]) for i in range(3)])\n",
    "\n",
    "def get_vg(lam):\n",
    "    \"\"\"Returns neutron group velocity (cm/us) from wavelength (Angstroms).\"\"\"\n",
    "    return (6.62607015/1.674927471)/lam*1e-1\n",
    "\n",
    "def tuning_perfect_rf(b0,amp,freq):\n",
    "    \"\"\"Rabi solution function with our Hamiltonian.\"\"\"\n",
    "    rabi = np.sqrt((freq - abs(GAMMA)*b0)**2 + (GAMMA*amp/2)**2)\n",
    "    return 1-2*(GAMMA*AMP/2/rabi)**2*np.sin(rabi*BEAM_TIME/2)**2\n",
    "\n",
    "def tuning_gaussian(b0,amp,av,sig):\n",
    "    \"\"\"Gaussian for fitting the static tuning curve.\"\"\"\n",
    "    return 1-2*amp*np.exp(-(b0-av)**2/(2*sig**2))\n",
    "\n",
    "def tuning_sig_pseudovoigt(b,amp,freq,av,sig,gamma,a,f):\n",
    "    \"\"\"Asymmeric pseudo-Voigt function for static tuning curve.\"\"\"\n",
    "    return 1-2*amp*np.cos((b-av)*freq)**2*sig_pseudovoigt(b,av,sig,gamma,a,f)[0]\n",
    "\n",
    "def sig_voigt(b,av,sig,gamma,a):\n",
    "    \"\"\"Convolution of gaussian and Lorentzian peak where the width\n",
    "    of the Lorentzian is allowed to vary sigmoidally, resulting in\n",
    "    an asymmetric peak. NOT WORKING.\"\"\"\n",
    "    G = 1/np.sqrt(2*np.pi)/sig*np.exp(-(b-av)**2/2/sig**2)\n",
    "    scale = gamma/(1+np.exp(a*(b-av)))\n",
    "    L = scale/np.pi/((b-av)**2 + scale**2)\n",
    "    L = L/simpson(L,b)\n",
    "    result = convolve(G,L,mode='same')\n",
    "    #need to fix shift here, only true for centered scans with ODD number of points\n",
    "    return result/simpson(result,b),G,L\n",
    "\n",
    "def sig_pseudovoigt(b,av,sig,gamma,a,f):\n",
    "    \"\"\"Linear mixing approximation to sig_voigt with f as the mixing parameter.\"\"\"\n",
    "    assert f>=0 and f<=1\n",
    "    G = 1/np.sqrt(2*np.pi)/sig*np.exp(-(b-av)**2/2/sig**2)\n",
    "    scale = gamma/(1+np.exp(a*(b-av)))\n",
    "    L = scale/np.pi/((b-av)**2 + scale**2)\n",
    "    L = L/simpson(L,b)\n",
    "    result = f*L + (1-f)*G\n",
    "    return result/simpson(result,b),G,L"
   ]
  },
  {
   "cell_type": "markdown",
   "id": "818b207e-44e8-4829-8201-e206b4065695",
   "metadata": {
    "tags": []
   },
   "source": [
    "***\n",
    "# Analytical Crack-Nicolson Matrix:\n",
    "***"
   ]
  },
  {
   "cell_type": "code",
   "execution_count": 2,
   "id": "2a9064e9-0290-4c0d-97b8-667895b5e72d",
   "metadata": {
    "tags": []
   },
   "outputs": [
    {
     "data": {
      "image/png": "[encoded data removed]",
      "text/latex": [
       "$\\displaystyle \\left[\\begin{matrix}\\frac{i \\mu^{2} \\tau^{2} \\left(B_{x} + i B_{y}\\right) \\left(i B_{x} + B_{y}\\right) + \\left(i B_{z} \\mu \\tau - 2 \\hbar\\right)^{2}}{B_{x}^{2} \\mu^{2} \\tau^{2} + B_{y}^{2} \\mu^{2} \\tau^{2} + B_{z}^{2} \\mu^{2} \\tau^{2} + 4 \\hbar^{2}} & \\frac{4 \\hbar \\mu \\tau \\left(- i B_{x} - B_{y}\\right)}{B_{x}^{2} \\mu^{2} \\tau^{2} + B_{y}^{2} \\mu^{2} \\tau^{2} + B_{z}^{2} \\mu^{2} \\tau^{2} + 4 \\hbar^{2}}\\\\\\frac{4 \\hbar \\mu \\tau \\left(- i B_{x} + B_{y}\\right)}{B_{x}^{2} \\mu^{2} \\tau^{2} + B_{y}^{2} \\mu^{2} \\tau^{2} + B_{z}^{2} \\mu^{2} \\tau^{2} + 4 \\hbar^{2}} & \\frac{i \\mu^{2} \\tau^{2} \\left(B_{x} - i B_{y}\\right) \\left(i B_{x} - B_{y}\\right) + \\left(i B_{z} \\mu \\tau + 2 \\hbar\\right)^{2}}{B_{x}^{2} \\mu^{2} \\tau^{2} + B_{y}^{2} \\mu^{2} \\tau^{2} + B_{z}^{2} \\mu^{2} \\tau^{2} + 4 \\hbar^{2}}\\end{matrix}\\right]$"
      ],
      "text/plain": [
       "⎡    2  2                                              2                      \n",
       "⎢ⅈ⋅μ ⋅τ ⋅(Bₓ + ⅈ⋅B_y)⋅(ⅈ⋅Bₓ + B_y) + (ⅈ⋅B_z⋅μ⋅τ - 2⋅h̅)                   4⋅h̅\n",
       "⎢──────────────────────────────────────────────────────        ───────────────\n",
       "⎢        2  2  2      2  2  2      2  2  2      2                2  2  2      \n",
       "⎢     Bₓ ⋅μ ⋅τ  + B_y ⋅μ ⋅τ  + B_z ⋅μ ⋅τ  + 4⋅h̅               Bₓ ⋅μ ⋅τ  + B_y\n",
       "⎢                                                                             \n",
       "⎢                                                            2  2             \n",
       "⎢                4⋅h̅⋅μ⋅τ⋅(-ⅈ⋅Bₓ + B_y)                   ⅈ⋅μ ⋅τ ⋅(Bₓ - ⅈ⋅B_y)\n",
       "⎢      ──────────────────────────────────────────         ────────────────────\n",
       "⎢        2  2  2      2  2  2      2  2  2      2                 2  2  2     \n",
       "⎣      Bₓ ⋅μ ⋅τ  + B_y ⋅μ ⋅τ  + B_z ⋅μ ⋅τ  + 4⋅h̅               Bₓ ⋅μ ⋅τ  + B_\n",
       "\n",
       "                                  ⎤\n",
       "⋅μ⋅τ⋅(-ⅈ⋅Bₓ - B_y)                 ⎥\n",
       "───────────────────────────       ⎥\n",
       "2  2  2      2  2  2      2       ⎥\n",
       " ⋅μ ⋅τ  + B_z ⋅μ ⋅τ  + 4⋅h̅        ⎥\n",
       "                                  ⎥\n",
       "                                 2⎥\n",
       "⋅(ⅈ⋅Bₓ - B_y) + (ⅈ⋅B_z⋅μ⋅τ + 2⋅h̅) ⎥\n",
       "──────────────────────────────────⎥\n",
       " 2  2  2      2  2  2      2      ⎥\n",
       "y ⋅μ ⋅τ  + B_z ⋅μ ⋅τ  + 4⋅h̅       ⎦"
      ]
     },
     "metadata": {},
     "output_type": "display_data"
    },
    {
     "name": "stdout",
     "output_type": "stream",
     "text": [
      "Component:  0\n"
     ]
    },
    {
     "data": {
      "image/png": "[encoded data removed]",
      "text/latex": [
       "$\\displaystyle - \\frac{B_{x}^{2} \\gamma^{2} \\tau^{2}}{4} - \\frac{B_{y}^{2} \\gamma^{2} \\tau^{2}}{4} - \\frac{B_{z}^{2} \\gamma^{2} \\tau^{2}}{4} - 2 i B_{z} \\gamma \\tau + 4$"
      ],
      "text/plain": [
       "    2  2  2      2  2  2      2  2  2                  \n",
       "  Bₓ ⋅γ ⋅τ    B_y ⋅γ ⋅τ    B_z ⋅γ ⋅τ                   \n",
       "- ───────── - ────────── - ────────── - 2⋅ⅈ⋅B_z⋅γ⋅τ + 4\n",
       "      4           4            4                       "
      ]
     },
     "metadata": {},
     "output_type": "display_data"
    },
    {
     "name": "stdout",
     "output_type": "stream",
     "text": [
      "Component:  1\n"
     ]
    },
    {
     "data": {
      "image/png": "[encoded data removed]",
      "text/latex": [
       "$\\displaystyle - 2 i B_{x} \\gamma \\tau - 2 B_{y} \\gamma \\tau$"
      ],
      "text/plain": [
       "-2⋅ⅈ⋅Bₓ⋅γ⋅τ - 2⋅B_y⋅γ⋅τ"
      ]
     },
     "metadata": {},
     "output_type": "display_data"
    },
    {
     "name": "stdout",
     "output_type": "stream",
     "text": [
      "Component:  2\n"
     ]
    },
    {
     "data": {
      "image/png": "[encoded data removed]",
      "text/latex": [
       "$\\displaystyle - 2 i B_{x} \\gamma \\tau + 2 B_{y} \\gamma \\tau$"
      ],
      "text/plain": [
       "-2⋅ⅈ⋅Bₓ⋅γ⋅τ + 2⋅B_y⋅γ⋅τ"
      ]
     },
     "metadata": {},
     "output_type": "display_data"
    },
    {
     "name": "stdout",
     "output_type": "stream",
     "text": [
      "Component:  3\n"
     ]
    },
    {
     "data": {
      "image/png": "[encoded data removed]",
      "text/latex": [
       "$\\displaystyle - \\frac{B_{x}^{2} \\gamma^{2} \\tau^{2}}{4} - \\frac{B_{y}^{2} \\gamma^{2} \\tau^{2}}{4} - \\frac{B_{z}^{2} \\gamma^{2} \\tau^{2}}{4} + 2 i B_{z} \\gamma \\tau + 4$"
      ],
      "text/plain": [
       "    2  2  2      2  2  2      2  2  2                  \n",
       "  Bₓ ⋅γ ⋅τ    B_y ⋅γ ⋅τ    B_z ⋅γ ⋅τ                   \n",
       "- ───────── - ────────── - ────────── + 2⋅ⅈ⋅B_z⋅γ⋅τ + 4\n",
       "      4           4            4                       "
      ]
     },
     "metadata": {},
     "output_type": "display_data"
    },
    {
     "data": {
      "text/plain": [
       "'Denominator:'"
      ]
     },
     "metadata": {},
     "output_type": "display_data"
    },
    {
     "data": {
      "image/png": "[encoded data removed]",
      "text/latex": [
       "$\\displaystyle \\frac{B_{x}^{2} \\gamma^{2} \\tau^{2}}{4} + \\frac{B_{y}^{2} \\gamma^{2} \\tau^{2}}{4} + \\frac{B_{z}^{2} \\gamma^{2} \\tau^{2}}{4} + 4$"
      ],
      "text/plain": [
       "  2  2  2      2  2  2      2  2  2    \n",
       "Bₓ ⋅γ ⋅τ    B_y ⋅γ ⋅τ    B_z ⋅γ ⋅τ     \n",
       "───────── + ────────── + ────────── + 4\n",
       "    4           4            4         "
      ]
     },
     "metadata": {},
     "output_type": "display_data"
    }
   ],
   "source": [
    "x,y,z,t,p,n1,n2,n3 = sym.symbols('x,y,z,t,phi,n_1,n_2,n_3', real=True)\n",
    "mu, hbar, ts, g, om = sym.symbols('mu,hbar,tau,gamma,omega', real=True, positive=True)\n",
    "Bx,By,Bz = sym.symbols('B_x,B_y,B_z', real=True)\n",
    "Bz = sym.Symbol('B_z', real=True, positive=True)\n",
    "\n",
    "idt,spx,spy,spz = sym.eye(2),sym.Matrix([[0,1],[1,0]]),sym.Matrix([[0,-sym.I],[sym.I,0]]),sym.Matrix([[1,0],[0,-1]])\n",
    "\n",
    "Ham = mu*(Bx*spx+By*spy+Bz*spz)\n",
    "\n",
    "Back = ((idt + sym.I*ts/(2*hbar)*Ham)**-1)\n",
    "For = (idt - sym.I*ts/(2*hbar)*Ham)\n",
    "Tot = sym.simplify(Back*For)\n",
    "display(Tot)\n",
    "\n",
    "nTot = Tot.subs({hbar:1,mu:g/2})\n",
    "for i in range(4):\n",
    "    n,d = sym.fraction(nTot[i])\n",
    "    n = sym.expand(n)\n",
    "    print('Component: ', i)\n",
    "    display(n)\n",
    "display('Denominator:',d)"
   ]
  },
  {
   "cell_type": "code",
   "execution_count": 7,
   "id": "4427df4d-31fb-46ee-bfcb-29d7f22ea6fd",
   "metadata": {},
   "outputs": [
    {
     "name": "stdout",
     "output_type": "stream",
     "text": [
      "RF flipper Hamiltonian:\n"
     ]
    },
    {
     "data": {
      "image/png": "[encoded data removed]",
      "text/latex": [
       "$\\displaystyle \\left[\\begin{matrix}- B_{z} \\mu & - B_{x} \\mu \\cos{\\left(\\omega t + \\phi \\right)}\\\\- B_{x} \\mu \\cos{\\left(\\omega t + \\phi \\right)} & B_{z} \\mu\\end{matrix}\\right]$"
      ],
      "text/plain": [
       "⎡      -B_z⋅μ        -Bₓ⋅μ⋅cos(ω⋅t + φ)⎤\n",
       "⎢                                      ⎥\n",
       "⎣-Bₓ⋅μ⋅cos(ω⋅t + φ)        B_z⋅μ       ⎦"
      ]
     },
     "metadata": {},
     "output_type": "display_data"
    },
    {
     "name": "stdout",
     "output_type": "stream",
     "text": [
      "Rotating frame Hamiltonian showing both rotation and nutation:\n"
     ]
    },
    {
     "data": {
      "image/png": "[encoded data removed]",
      "text/latex": [
       "$\\displaystyle \\left[\\begin{matrix}- B_{z} \\mu - \\frac{\\omega}{2} & - B_{x} \\mu e^{- i \\left(\\omega t + \\phi\\right)} \\cos{\\left(\\omega t + \\phi \\right)}\\\\- B_{x} \\mu e^{i \\left(\\omega t + \\phi\\right)} \\cos{\\left(\\omega t + \\phi \\right)} & B_{z} \\mu + \\frac{\\omega}{2}\\end{matrix}\\right]$"
      ],
      "text/plain": [
       "⎡                   ω                    -ⅈ⋅(ω⋅t + φ)             ⎤\n",
       "⎢          -B_z⋅μ - ─             -Bₓ⋅μ⋅ℯ            ⋅cos(ω⋅t + φ)⎥\n",
       "⎢                   2                                             ⎥\n",
       "⎢                                                                 ⎥\n",
       "⎢       ⅈ⋅(ω⋅t + φ)                                  ω            ⎥\n",
       "⎢-Bₓ⋅μ⋅ℯ           ⋅cos(ω⋅t + φ)             B_z⋅μ + ─            ⎥\n",
       "⎣                                                    2            ⎦"
      ]
     },
     "metadata": {},
     "output_type": "display_data"
    },
    {
     "name": "stdout",
     "output_type": "stream",
     "text": [
      "Time-averaged Hamiltonian in the rotating frame:\n"
     ]
    },
    {
     "data": {
      "image/png": "[encoded data removed]",
      "text/latex": [
       "$\\displaystyle \\left[\\begin{matrix}B_{z} \\mu - \\frac{\\omega}{2} & \\frac{B_{x} \\mu}{2}\\\\\\frac{B_{x} \\mu}{2} & - B_{z} \\mu + \\frac{\\omega}{2}\\end{matrix}\\right]$"
      ],
      "text/plain": [
       "⎡        ω     Bₓ⋅μ   ⎤\n",
       "⎢B_z⋅μ - ─     ────   ⎥\n",
       "⎢        2      2     ⎥\n",
       "⎢                     ⎥\n",
       "⎢  Bₓ⋅μ              ω⎥\n",
       "⎢  ────     -B_z⋅μ + ─⎥\n",
       "⎣   2                2⎦"
      ]
     },
     "metadata": {},
     "output_type": "display_data"
    }
   ],
   "source": [
    "RFHam = -mu*(Bz*spz + Bx*sym.cos(om*t+p)*spx)\n",
    "print('RF flipper Hamiltonian:')\n",
    "display(RFHam)\n",
    "rot = sym.exp(-sym.I*(om*t+p)/2*spz).simplify()\n",
    "invrot = sym.exp(sym.I*(om*t+p)/2*spz).simplify()\n",
    "td = om/2*spz #from time derivative\n",
    "rotframe = rot*RFHam*invrot - td \n",
    "rotframe = rotframe.simplify()\n",
    "print('Rotating frame Hamiltonian showing both rotation and nutation:')\n",
    "display(rotframe.simplify())\n",
    "tav_rotframe = sym.Matrix([[Bz*mu,mu*Bx/2],\\\n",
    "                           [mu*Bx/2,-Bz*mu]]) - td #averaged over many nutations, so cos^2->sin^2->1/2\n",
    "print('Time-averaged Hamiltonian in the rotating frame:')\n",
    "display(tav_rotframe)"
   ]
  },
  {
   "cell_type": "code",
   "execution_count": 4,
   "id": "933287b4-f76d-4f00-b4b8-5162bb62b33b",
   "metadata": {},
   "outputs": [
    {
     "name": "stdout",
     "output_type": "stream",
     "text": [
      "Symmetric RF flipper Hamiltonian:\n"
     ]
    },
    {
     "data": {
      "image/png": "[encoded data removed]",
      "text/latex": [
       "$\\displaystyle \\left[\\begin{matrix}B_{z} \\mu & B_{x} \\mu \\left(- i \\sin{\\left(\\omega t \\right)} + \\cos{\\left(\\omega t \\right)}\\right)\\\\B_{x} \\mu \\left(i \\sin{\\left(\\omega t \\right)} + \\cos{\\left(\\omega t \\right)}\\right) & - B_{z} \\mu\\end{matrix}\\right]$"
      ],
      "text/plain": [
       "⎡           B_z⋅μ              Bₓ⋅μ⋅(-ⅈ⋅sin(ω⋅t) + cos(ω⋅t))⎤\n",
       "⎢                                                           ⎥\n",
       "⎣Bₓ⋅μ⋅(ⅈ⋅sin(ω⋅t) + cos(ω⋅t))             -B_z⋅μ            ⎦"
      ]
     },
     "metadata": {},
     "output_type": "display_data"
    },
    {
     "name": "stdout",
     "output_type": "stream",
     "text": [
      "Rotating frame symmetric Hamiltonian showing ONLY rotation:\n"
     ]
    },
    {
     "data": {
      "image/png": "[encoded data removed]",
      "text/latex": [
       "$\\displaystyle \\left[\\begin{matrix}B_{z} \\mu - \\frac{\\omega}{2} & B_{x} \\mu\\\\B_{x} \\mu & - B_{z} \\mu + \\frac{\\omega}{2}\\end{matrix}\\right]$"
      ],
      "text/plain": [
       "⎡        ω            ⎤\n",
       "⎢B_z⋅μ - ─     Bₓ⋅μ   ⎥\n",
       "⎢        2            ⎥\n",
       "⎢                     ⎥\n",
       "⎢                    ω⎥\n",
       "⎢  Bₓ⋅μ     -B_z⋅μ + ─⎥\n",
       "⎣                    2⎦"
      ]
     },
     "metadata": {},
     "output_type": "display_data"
    }
   ],
   "source": [
    "RFHam2 = mu*(Bz*spz+Bx*(sym.cos(om*t)*spx + sym.sin(om*t)*spy))\n",
    "print('Symmetric RF flipper Hamiltonian:')\n",
    "display(RFHam2)\n",
    "rot = sym.exp(sym.I*om*t/2*spz).simplify()\n",
    "invrot = sym.exp(-sym.I*om*t/2*spz).simplify()\n",
    "td = om/2*spz #from time derivative\n",
    "rotframe2 = rot*RFHam2*invrot - td\n",
    "rotframe2 = rotframe2.simplify()\n",
    "print('Rotating frame symmetric Hamiltonian showing ONLY rotation:')\n",
    "display(rotframe2)"
   ]
  },
  {
   "cell_type": "code",
   "execution_count": 5,
   "id": "11e094ef-6ebc-4ec7-9b7c-902ec02191e8",
   "metadata": {},
   "outputs": [
    {
     "name": "stdout",
     "output_type": "stream",
     "text": [
      "Integral result:\n"
     ]
    },
    {
     "data": {
      "image/png": "[encoded data removed]",
      "text/latex": [
       "$\\displaystyle \\begin{cases} - \\frac{i B_{z} \\gamma e^{i B_{z} \\gamma t} \\cos{\\left(\\omega t \\right)}}{B_{z}^{2} \\gamma^{2} - \\omega^{2}} + \\frac{i B_{z} \\gamma}{B_{z}^{2} \\gamma^{2} - \\omega^{2}} - \\frac{\\omega e^{i B_{z} \\gamma t} \\sin{\\left(\\omega t \\right)}}{B_{z}^{2} \\gamma^{2} - \\omega^{2}} & \\text{for}\\: B_{z} \\neq \\frac{\\omega}{\\gamma} \\\\- \\frac{i t e^{i \\omega t} \\sin{\\left(\\omega t \\right)}}{2} + \\frac{t e^{i \\omega t} \\cos{\\left(\\omega t \\right)}}{2} + \\frac{e^{i \\omega t} \\sin{\\left(\\omega t \\right)}}{2 \\omega} & \\text{otherwise} \\end{cases}$"
      ],
      "text/plain": [
       "⎧           ⅈ⋅B_z⋅γ⋅t                              ⅈ⋅B_z⋅γ⋅t                  \n",
       "⎪  ⅈ⋅B_z⋅γ⋅ℯ         ⋅cos(ω⋅t)     ⅈ⋅B_z⋅γ      ω⋅ℯ         ⋅sin(ω⋅t)         \n",
       "⎪- ─────────────────────────── + ──────────── - ─────────────────────  for B_z\n",
       "⎪             2  2    2             2  2    2           2  2    2             \n",
       "⎪          B_z ⋅γ  - ω           B_z ⋅γ  - ω         B_z ⋅γ  - ω              \n",
       "⎨                                                                             \n",
       "⎪           ⅈ⋅ω⋅t               ⅈ⋅ω⋅t             ⅈ⋅ω⋅t                       \n",
       "⎪      ⅈ⋅t⋅ℯ     ⋅sin(ω⋅t)   t⋅ℯ     ⋅cos(ω⋅t)   ℯ     ⋅sin(ω⋅t)              \n",
       "⎪    - ─────────────────── + ───────────────── + ───────────────        otherw\n",
       "⎪               2                    2                 2⋅ω                    \n",
       "⎩                                                                             \n",
       "\n",
       "    \n",
       "   ω\n",
       " ≠ ─\n",
       "   γ\n",
       "    \n",
       "    \n",
       "    \n",
       "    \n",
       "ise \n",
       "    \n",
       "    "
      ]
     },
     "metadata": {},
     "output_type": "display_data"
    },
    {
     "name": "stdout",
     "output_type": "stream",
     "text": [
      "Matrix element:\n"
     ]
    },
    {
     "data": {
      "image/png": "[encoded data removed]",
      "text/latex": [
       "$\\displaystyle \\frac{\\omega^{2} t^{2} + \\omega t \\sin{\\left(2 \\omega t \\right)} + \\sin^{2}{\\left(\\omega t \\right)}}{4 \\omega^{2}}$"
      ],
      "text/plain": [
       " 2  2                       2     \n",
       "ω ⋅t  + ω⋅t⋅sin(2⋅ω⋅t) + sin (ω⋅t)\n",
       "──────────────────────────────────\n",
       "                  2               \n",
       "               4⋅ω                "
      ]
     },
     "metadata": {},
     "output_type": "display_data"
    }
   ],
   "source": [
    "const_f = sym.exp(sym.I*g*Bz*t)*sym.cos(om*t)\n",
    "const_result = sym.integrate(const_f, (t, 0, t))\n",
    "print('Integral result:')\n",
    "display(const_result)\n",
    "const_ns = const_result.args[0][0]\n",
    "const_res = const_result.args[1][0]\n",
    "print('Matrix element:')\n",
    "const_me = sym.Abs(const_res)**2\n",
    "display(const_me.simplify())"
   ]
  },
  {
   "cell_type": "markdown",
   "id": "1a746d13-ea28-4090-884d-e411d5e6e48e",
   "metadata": {
    "jp-MarkdownHeadingCollapsed": true,
    "tags": []
   },
   "source": [
    "***\n",
    "# Definition of magnetic fields and CN matrix:\n",
    "***"
   ]
  },
  {
   "cell_type": "code",
   "execution_count": null,
   "id": "74fe3204-526f-478a-bfba-20d64f3c0a5a",
   "metadata": {},
   "outputs": [],
   "source": [
    "#Static magnetic field options\n",
    "def B_rect(z,start,end,n,a):\n",
    "    \"\"\"Returns 3D constant magnetic field in given direction n with strength a.\"\"\"\n",
    "    normed = n/np.sqrt(np.sum([ni**2 for ni in n])) #normalized input direction\n",
    "    temp = np.empty(len(z))\n",
    "    for i,val in enumerate(z):\n",
    "        temp[i] = i>=start and i<=end\n",
    "    return np.array([a*ni*temp for ni in normed])\n",
    "\n",
    "def B_grect(z,start,end,n,a,av,sig,frown=True,fs=1e-2):\n",
    "    \"\"\"Returns 3D gaussian magnetic field in given direction n with strength a.\n",
    "    Frown parameter controls convex/concave profile (fs is frown strength).\"\"\"\n",
    "    normed = n/np.sqrt(np.sum([ni**2 for ni in n])) #normalized input direction\n",
    "    temp = np.empty(len(z))\n",
    "    if frown:\n",
    "        for i,val in enumerate(z):\n",
    "            temp[i] = (i>=start and i<=end)*np.exp(-(val-av)**2/(2*sig**2))\n",
    "    else:\n",
    "        for i,val in enumerate(z):\n",
    "            temp[i] = (i>=start and i<=end)*(1-fs*np.exp(-(val-av)**2/(2*sig**2)))\n",
    "    return np.array([a*ni*temp for ni in normed])\n",
    "\n",
    "def B_smst(z,start,end,n,a):\n",
    "    \"\"\"Returns 3D smoothed step function of magnetic field in given direction n with strength a\"\"\"\n",
    "    s,e = z[start],z[end]\n",
    "    normed = n/np.sqrt(np.sum([ni**2 for ni in n])) #normalized input direction\n",
    "    a0 = (s**3 - 3*s**2*e)/(s - e)**3\n",
    "    a1 = 6*s*e/(s - e)**3\n",
    "    a2 = -3*(s + e)/(s - e)**3\n",
    "    a3 = 2/(s - e)**3\n",
    "    temp = np.zeros(len(z))\n",
    "    temp[start:end] = a0 + a1*z[start:end] + a2*z[start:end]**2 + a3*z[start:end]**3\n",
    "    temp[end:-1] = np.ones(len(Z)-end - 1)\n",
    "    temp[-1] = 1\n",
    "    return np.array([a*ni*temp for ni in normed])\n",
    "\n",
    "def B_noisy(z,start,end,n,a,amps,freqs,phases):\n",
    "    \"\"\"Returns static field that is mostly constant but has a tunable level of noise (simple cosines\n",
    "    of many different frequencies).\"\"\"\n",
    "    normed = n/np.sqrt(np.sum([ni**2 for ni in n]))\n",
    "    temp = np.full(len(z),a)\n",
    "    for indx,f in enumerate(freqs):\n",
    "        temp = amps[indx]*np.cos(z*f + phases[indx]) + temp\n",
    "    return np.array([ni*temp for ni in normed])\n",
    "\n",
    "def B_sol(z,start,end,r,a):\n",
    "    \"\"\"Returns analytic finite solenoid envelope.\"\"\"\n",
    "    s,e = z[start],z[end]\n",
    "    temp = ((z-s)/np.sqrt((z-s)**2 + r**2) - (z-e)/np.sqrt((z-e)**2 + r**2))\n",
    "    return a*temp/np.max(temp)\n",
    "\n",
    "#Time-dependent mangetic field options\n",
    "def B_gauss(t,amp,av,sig):\n",
    "    \"\"\"Returns gaussian field component in time.\"\"\"\n",
    "    return amp*np.exp(-(t-av)**2/(2*sig**2))\n",
    "\n",
    "def B_cos(t,amp,freq,phase):\n",
    "    \"\"\"Returns time-harmonic (cosine) magnetic field in time. Use phase=-np.pi/2 for sin.\"\"\"\n",
    "    return amp*np.cos(freq*t + phase)\n",
    "\n",
    "def B_gcos(t,amp,freq,phase,av,sig):\n",
    "    \"\"\"Returns time-harmonic (cosine) magnetic field with gaussian envelope in time.\n",
    "    Use phase=-np.pi/2 for sin.\"\"\"\n",
    "    return amp*np.cos(freq*t + phase)*np.exp(-(t-av)**2/(2*sig**2))\n",
    "\n",
    "def Bt_smst(t,tp_s,tp_e):\n",
    "    \"\"\"Returns 3D smoothed step function of magnetic field in given direction n with strength a\"\"\"\n",
    "    s,e = t[tp_s],t[tp_e]\n",
    "    a0 = (s**3 - 3*s**2*e)/(s - e)**3\n",
    "    a1 = 6*s*e/(s - e)**3\n",
    "    a2 = -3*(s + e)/(s - e)**3\n",
    "    a3 = 2/(s - e)**3\n",
    "    temp = np.zeros(len(t))\n",
    "    temp[tp_s:tp_e] = a0 + a1*t[tp_s:tp_e] + a2*t[tp_s:tp_e]**2 + a3*t[tp_s:tp_e]**3\n",
    "    temp[tp_e:-1] = np.ones(len(t)-tp_e - 1)\n",
    "    temp[-1] = 1\n",
    "    return temp\n",
    "\n",
    "#RF flipper models and functions\n",
    "def get_rf_flipper(model,t,t_step,z,z_step,v,plot=False):\n",
    "    \"\"\"Defines and returns magnetic field from longitudinal RF flipper. Takes in a dictionary that\n",
    "    determines the RF flipper model. Requires two strings so the parameter lists make sense.\"\"\"\n",
    "    if model['static']=='uniform':\n",
    "        start,end,n,a = model['static_parms']\n",
    "        Bt_0 = get_Bt(t,t_step,z_step,v,B_rect(z,start,end,n,a))\n",
    "    elif model['static']=='gaussian':\n",
    "        start,end,n,a,av,sig = model['static_parms']\n",
    "        Bt_0 = get_Bt(t,t_step,z_step,v,B_grect(z,start,end,n,a,av,sig))\n",
    "    elif model['static']=='smooth_step':\n",
    "        start1,end1,start2,end2,n,a = model['static_parms']\n",
    "        Bt_0 = get_Bt(t,t_step,z_step,v,B_smst(z,start1,end1,n,a) - B_smst(z,start2,end2,n,a))\n",
    "    elif model['static']=='noisy':\n",
    "        start,end,n,a,amps,freqs,phases = model['static_parms']\n",
    "        Bt_0 = get_Bt(t,t_step,z_step,v,B_noisy(z,start,end,n,a,amps,freqs,phases))\n",
    "    else:\n",
    "        raise ValueError('Static field model not found!')\n",
    "        \n",
    "    if model['rf']=='uniform': \n",
    "        amp,freq,phase = model['rf_parms']\n",
    "        #Bt_harm = np.array([np.zeros(len(t)),np.zeros(len(t)),B_cos(t,amp,freq,phase)]) #switched rf field\n",
    "        Bt_harm = np.array([B_cos(t,amp,freq,phase),np.zeros(len(t)),np.zeros(len(t))])\n",
    "    elif model['rf']=='gaussian':\n",
    "        amp,freq,phase,av,sig = model['rf_parms']\n",
    "        Bt_harm = np.array([np.zeros(len(t)),np.zeros(len(t)),\\\n",
    "                            B_gcos(t,amp,freq,phase,av,sig)])\n",
    "    elif model['rf']=='smooth_step':\n",
    "        amp,freq,phase,start1,end1,start2,end2 = model['rf_parms']\n",
    "        Bt_harm = np.array([np.zeros(len(t)),np.zeros(len(t)),\\\n",
    "                            amp*np.cos(freq*t + phase)*(Bt_smst(t,start1,end1) - Bt_smst(t,start2,end2))])\n",
    "    elif model['rf']=='Fankang':\n",
    "        amp,freq,phase = model['rf_parms']\n",
    "        Bt_harm = np.array([B_cos(t,amp,freq,phase-np.pi/2),np.zeros(len(t)),\\\n",
    "                            B_cos(t,amp,freq,phase)])\n",
    "    else:\n",
    "        raise ValueError('RF field model not found!')\n",
    "        \n",
    "    t_mask = np.array([[True if Bt_0[j,t]*n[j] != 0 else False for t in range(len(t))] for j in range(3)])\n",
    "    for j in range(len(t)): #\"spatial\" bounds on rf field are determined by the static field bounds\n",
    "        if not (t_mask[0,j] or t_mask[1,j] or t_mask[2,j]):\n",
    "            Bt_harm[0,j],Bt_harm[1,j],Bt_harm[2,j] = 0,0,0\n",
    "    \n",
    "    if plot: #rough plot for testing purposes\n",
    "        fig = plt.figure(figsize=(plot_width,plot_height))\n",
    "        for i in range(3):\n",
    "            plt.plot(t,Bt_0[i] + Bt_harm[i])\n",
    "        plt.grid()\n",
    "        plt.show()\n",
    "    \n",
    "    return Bt_0 + Bt_harm\n",
    "\n",
    "def get_Bt(t,t_step,z_step,v,B):\n",
    "    \"\"\"Returns the field seen by the moving neutron.\"\"\"\n",
    "    bpoint = 0\n",
    "    temp = [np.empty(len(t)),np.empty(len(t)),np.empty(len(t))]\n",
    "    for i,val in enumerate(t):\n",
    "        if val*v > z_step*(bpoint + 1):\n",
    "            bpoint += 1\n",
    "        temp[0][i] = B[0][bpoint]\n",
    "        temp[1][i] = B[1][bpoint]\n",
    "        temp[2][i] = B[2][bpoint]\n",
    "    return np.array(temp)\n",
    "\n",
    "def get_CNM(B,t_step):\n",
    "    \"\"\"Returns Crank-Nicolson matrix for given magnetic field B.\"\"\"\n",
    "    bms = np.sum([i**2 for i in B])\n",
    "    CNM = np.zeros((2,2),dtype=np.complex_)\n",
    "    CNM[0,0] = 4 - 2j*B[2]*t_step*GAMMA - (bms*(t_step*GAMMA)**2)/4\n",
    "    CNM[1,0] = -2j*(B[0] - 1j*B[1])*t_step*GAMMA\n",
    "    CNM[0,1] = -2j*(B[0] + 1j*B[1])*t_step*GAMMA\n",
    "    CNM[1,1] = 4 + 2j*B[2]*t_step*GAMMA - (bms*(t_step*GAMMA)**2)/4\n",
    "    return 1/(bms*(t_step*GAMMA/2)**2 + 4)*CNM\n",
    "\n",
    "def do_sim(psi_0,Bt_tot,t,t_step,\\\n",
    "           return_psis=False,plot_bt=True,plot_pol=True,pol_on_bt=False,\\\n",
    "           plot_Pi=(True,True,True,False),plot_Bi=(True,True,True,False)):\n",
    "    \"\"\"Returns polarization (3D real vector) at every time point. Can return wavefunction matrix,\n",
    "    but may run into memory issues with numpy?\"\"\"\n",
    "    psi = np.array([np.zeros((2,2),dtype=np.complex_) for i in t]) #holds all wavefunctions\n",
    "\n",
    "    psi[0] = psi_0 #initial wavefunction\n",
    "    for i in range(1,len(t)):\n",
    "        psi[i] = np.dot(get_CNM(Bt_tot[:,i],t_step),psi[i-1])\n",
    "    pols = np.array([pol(i) for i in psi])\n",
    "    \n",
    "    if plot_bt:\n",
    "        fig = plt.figure(figsize=(plot_width,plot_height))\n",
    "        plt.title('Magnetic field components')\n",
    "        plt.xlabel('Time (us)')\n",
    "        plt.ylabel('Strength (mT)')\n",
    "        if plot_Bi[0]: plt.plot(t, Bt_tot[0], label='Bx(t)', linewidth=5, color='C0')\n",
    "        if plot_Bi[1]: plt.plot(t, Bt_tot[1], label='By(t)', linewidth=5, color='C1')\n",
    "        if plot_Bi[2]: plt.plot(t, Bt_tot[2], label='Bz(t)', linewidth=5, color='C2')\n",
    "        if plot_Bi[3]: \n",
    "            plt.plot(t, np.sqrt(Bt_tot[0]**2+Bt_tot[1]**2+Bt_tot[2]**2), '-', label='|B(t)|', linewidth=4, color='C3')\n",
    "        if pol_on_bt:\n",
    "            if plot_Pi[0]: plt.plot(t, pols[:,0], '-.', label='Px(t)', linewidth=4, color='C0')\n",
    "            if plot_Pi[1]: plt.plot(t, pols[:,1], '-.', label='Py(t)', linewidth=4, color='C1')\n",
    "            if plot_Pi[2]: plt.plot(t, pols[:,2], '-.', label='Pz(t)', linewidth=4, color='C2')\n",
    "        plt.grid()\n",
    "        plt.legend()\n",
    "        plt.show()\n",
    "    \n",
    "    if plot_pol:\n",
    "        fig = plt.figure(figsize=(plot_width,plot_height))\n",
    "        plt.title('Polarization components')\n",
    "        plt.xlabel('Time (us)')\n",
    "        plt.ylabel('Pol.')\n",
    "        if plot_Pi[0]: plt.plot(t, pols[:,0], label='Px(t)', linewidth=5, color='C0')\n",
    "        if plot_Pi[1]: plt.plot(t, pols[:,1], label='Py(t)', linewidth=5, color='C1')\n",
    "        if plot_Pi[2]: plt.plot(t, pols[:,2], label='Pz(t)', linewidth=5, color='C2')\n",
    "        if plot_Pi[3]: plt.plot(t, [np.sqrt(np.sum([i**2 for i in pols[j]])) for j in range(len(pols[:,0]))], '--', \\\n",
    "                                label='|P(t)|', linewidth=4, color='C3')\n",
    "        plt.grid()\n",
    "        plt.legend()\n",
    "        plt.show()\n",
    "        \n",
    "    if not return_psis:\n",
    "        del psi\n",
    "        return pols\n",
    "    else:\n",
    "        return pols, psi"
   ]
  },
  {
   "cell_type": "markdown",
   "id": "b231740d-4b5f-4da1-98c2-3cade12c9b31",
   "metadata": {
    "tags": []
   },
   "source": [
    "***\n",
    "## Simulation scans:\n",
    "***"
   ]
  },
  {
   "cell_type": "code",
   "execution_count": null,
   "id": "7bcbc4f4-9a48-4bde-8833-a8454f64a5fe",
   "metadata": {},
   "outputs": [],
   "source": [
    "def do_model_scan(model_seq1, model_seq2, parm, plots_scans=False,plot_tune=True,return_new=True):\n",
    "    \"\"\"Performs a scan of a model. Can compare tuning curves with a\n",
    "    second model sequence. parm is a tupule of 2 strings that keeps track of the \n",
    "    tuning parameter and the scan of the parameter itself. Can also return new\n",
    "    best flip parameter.\"\"\"\n",
    "    pols1 = [[] for m in model_seq1]\n",
    "    pols2 = [[] for m in model_seq2]\n",
    "    for indx,m in enumerate(model_seq1):\n",
    "        Bt = get_rf_flipper(m,T,TAU,Z,DELTA,VG,plot=False)\n",
    "        pols1[indx] = do_sim(yp,Bt,T,TAU,plot_bt=False,\\\n",
    "                         plot_pol=plots_scans,plot_Pi=(True,True,True,False))\n",
    "    if len(model_seq2)!=0:\n",
    "        for indx,m in enumerate(model_seq2):\n",
    "            Bt = get_rf_flipper(m,T,TAU,Z,DELTA,VG,plot=False)\n",
    "            pols2[indx] = do_sim(yp,Bt,T,TAU,plot_bt=False,\\\n",
    "                              plot_pol=plots_scans,plot_Pi=(True,True,True,False))\n",
    "    pols1,pols2 = np.array(pols1),np.array(pols2)\n",
    "    if plot_tune:\n",
    "        fig = plt.figure(figsize=(plot_width,plot_height))\n",
    "        plt.title('Tuning curve')\n",
    "        plt.xlabel(f'{parm[0]} ({parm[1]})')\n",
    "        plt.ylabel('Exit pol.')\n",
    "        plt.plot(parm[2], pols1[:,-1,1],'o-',ms=6,linewidth=6)\n",
    "        if len(model_seq2)!=0:\n",
    "            plt.plot(parm[2], pols2[:,-1,1],'o-',ms=6,linewidth=6)\n",
    "        plt.grid()\n",
    "        plt.show()\n",
    "        \n",
    "    new_parm1 = parm[2][np.argmin(pols1[:,-1,1])]\n",
    "    new_parm2 = parm[2][np.argmin(pols2[:,-1,1])]\n",
    "    print(f'SEQ1: Min pol of {np.min(pols1[:,-1,1])} at {parm[0]+\" \"+parm[1]} {round(new_parm1,5)}.')\n",
    "    print(f'SEQ2: Min pol of {np.min(pols2[:,-1,1])} at {parm[0]+\" \"+parm[1]} {round(new_parm2,5)}.')\n",
    "    if return_new: return new_parm1, new_parm2, pols1, pols2\n",
    "    else: return pols1, pols2\n",
    "\n",
    "def model_compare(model_1,model_2,plot_b=False):\n",
    "    \"\"\"Compares flipping efficiencies between two input models.\"\"\"\n",
    "    Bt1 = get_rf_flipper(model_1,T,TAU,Z,DELTA,VG)\n",
    "    Bt2 = get_rf_flipper(model_2,T,TAU,Z,DELTA,VG)\n",
    "\n",
    "    pols1 = do_sim(yp,Bt1,T,TAU,plot_bt=plot_b,plot_pol=True,\\\n",
    "                   plot_Bi=(False,True,True,False),plot_Pi=(True,True,True,False))\n",
    "    pols2 = do_sim(yp,Bt2,T,TAU,plot_bt=plot_b,plot_pol=True,\\\n",
    "                   plot_Bi=(False,True,True,False),plot_Pi=(True,True,True,False))\n",
    "\n",
    "    print(f'Model 1: Minimum pol: {round(np.min(pols1[:,1]),5)}')\n",
    "    tmin1 = np.argmin(pols1[:,1])\n",
    "    print(f'Model 1: Minimum pol at t={round(T[tmin1],5)} \\n')\n",
    "    \n",
    "    print(f'Model 2: Minimum pol: {round(np.min(pols2[:,1]),5)}')\n",
    "    tmin2 = np.argmin(pols2[:,1])\n",
    "    print(f'Model 2: Minimum pol at t={round(T[tmin2],5)} \\n')\n",
    "\n",
    "    print('Model 1: Final pol: ', round(pols1[-1,1],5))\n",
    "    print('Model 2: Final pol: ', round(pols2[-1,1],5))\n",
    "    return pols1,pols2\n",
    "\n",
    "def get_envelope(pols1,pols2,s=0,e=-1,plot=True):\n",
    "    \"\"\"Returns oscillation envelopes.\"\"\"\n",
    "    env_x1,env_z1 = np.abs(hilbert(pols1[:,0])),np.abs(hilbert(pols1[:,2]))\n",
    "    env_x2,env_z2 = np.abs(hilbert(pols2[:,0])),np.abs(hilbert(pols2[:,2]))\n",
    "\n",
    "    if plot: #compares polarizations\n",
    "        fig = plt.figure(figsize=(plot_width,plot_height))\n",
    "        plt.title('Pol. envelope')\n",
    "        plt.xlabel('Time (us)')\n",
    "        plt.ylabel('Pol.')\n",
    "        plt.plot(T[s:e],env_x1[s:e],'--', color='C0', linewidth=4)\n",
    "        plt.plot(T[s:e],env_x2[s:e],'-', color='C0', linewidth=4, label='Px')\n",
    "        plt.plot(T[s:e],pols1[s:e,1],'--', color='C1', linewidth=4)\n",
    "        plt.plot(T[s:e],pols2[s:e,1],'-', color='C1', linewidth=4, label='Py')\n",
    "        plt.plot(T[s:e],-env_z1[s:e],'--', color='C2', linewidth=4)\n",
    "        plt.plot(T[s:e],-env_z2[s:e],'-', color='C2', linewidth=4, label='-Pz')\n",
    "        plt.grid()\n",
    "        plt.legend()\n",
    "        plt.show()     \n",
    "    return env_x1,env_z1,env_x2,env_z2\n",
    "\n",
    "def do_stability_check(pols1,pols2,s=-1000,e=-1,plot_exit=True):\n",
    "    \"\"\"Plots polarization near the exit of the flipper (or near the minimum\n",
    "    polarization). Returns nothing.\"\"\"\n",
    "    if plot_exit:\n",
    "        fig = plt.figure(figsize=(plot_width,plot_height))\n",
    "        plt.title('Pol. near flipper exit')\n",
    "        plt.xlabel('Time (us)')\n",
    "        plt.ylabel('Pol.')\n",
    "        plt.plot(T[s:e],pols1[s:e,0], '--', color='C0', linewidth=4)\n",
    "        plt.plot(T[s:e],pols2[s:e,0], color='C0', linewidth=4, label='Px')\n",
    "        plt.plot(T[s:e],np.ones(abs(s-e))+pols1[s:e,1], '--', color='C1', linewidth=4)\n",
    "        plt.plot(T[s:e],np.ones(abs(s-e))+pols2[s:e,1], color='C1', linewidth=4, label='1+Py')\n",
    "        plt.plot(T[s:e],pols1[s:e,2], '--', color='C2', linewidth=4)\n",
    "        plt.plot(T[s:e],pols2[s:e,2], color='C2', linewidth=4, label='Pz')\n",
    "        plt.grid()\n",
    "        plt.legend()\n",
    "        plt.show()\n",
    "    else: #minimum is exit for perfect flipper\n",
    "        tmin1,pol_min1 = np.argmin(pols1[:,1]), np.min(pols1[:,1])\n",
    "        tmin2,pol_min2 = np.argmin(pols2[:,1]), np.min(pols2[:,1])\n",
    "        delta = int(abs(s-e)/2) #symmetric around min\n",
    "        fig = plt.figure(figsize=(plot_width,plot_height))\n",
    "        plt.title('Pol. near minimum (1)')\n",
    "        plt.xlabel('Time (us)')\n",
    "        plt.ylabel('Pol.')\n",
    "        plt.plot(T[tmin1-delta:tmin1+delta],pols1[tmin1-delta:tmin1+delta,0], linewidth=5, label='Px')\n",
    "        plt.plot(T[tmin1-delta:tmin1+delta],\\\n",
    "                 1+pols1[tmin1-delta:tmin1+delta,1], linewidth=5, label='1+Py')\n",
    "        plt.plot(T[tmin1-delta:tmin1+delta],pols1[tmin1-delta:tmin1+delta,2], linewidth=5, label='Pz')\n",
    "        plt.grid()\n",
    "        plt.legend()\n",
    "        plt.show()\n",
    "        print(f'Minimum of {round(pol_min1,5)} at t={round(T[tmin1],3)} \\n')\n",
    "        \n",
    "        fig = plt.figure(figsize=(plot_width,plot_height))\n",
    "        plt.title('Pol. near minimum (2)')\n",
    "        plt.xlabel('Time (us)')\n",
    "        plt.ylabel('Pol.')\n",
    "        plt.plot(T[tmin2-delta:tmin2+delta],pols2[tmin2-delta:tmin2+delta,0], linewidth=5, label='Px')\n",
    "        plt.plot(T[tmin2-delta:tmin2+delta],\\\n",
    "                 1+pols2[tmin2-delta:tmin2+delta,1], linewidth=5, label='1+Py')\n",
    "        plt.plot(T[tmin2-delta:tmin2+delta],pols2[tmin2-delta:tmin2+delta,2], linewidth=5, label='Pz')\n",
    "        plt.grid()\n",
    "        plt.legend()\n",
    "        plt.show()\n",
    "        print(f'Minimum of {round(pol_min2,5)} at t={round(T[tmin2],3)} \\n')"
   ]
  },
  {
   "cell_type": "markdown",
   "id": "ce2827b5-29b0-4c91-95e3-6eea5cc2edab",
   "metadata": {
    "jp-MarkdownHeadingCollapsed": true,
    "tags": []
   },
   "source": [
    "***\n",
    "# GLOBAL simulation parameters:\n",
    "***"
   ]
  },
  {
   "cell_type": "code",
   "execution_count": null,
   "id": "fe45d384-3698-4536-9119-4245046de6eb",
   "metadata": {
    "tags": []
   },
   "outputs": [],
   "source": [
    "GAMMA = -1.83247171*1e-1 #neutron gyromagnetic ratio (rad per mT us)\n",
    "HBAR = 1.05457182e-34\n",
    "M_N = 1.674927498e-27\n",
    "\n",
    "BEAM_DIST = 2.5 #total beamline length (cm)\n",
    "Z_POINTS = 200 #number of lattice points\n",
    "DELTA = BEAM_DIST/Z_POINTS #lattice spacing (cm)\n",
    "Z = np.linspace(0,BEAM_DIST,Z_POINTS) #space lattice\n",
    "\n",
    "LAM = 4.5 #neutron wavelength (Angstoms)\n",
    "VG = get_vg(LAM) #group velocity (cm per us)\n",
    "\n",
    "BEAM_TIME = BEAM_DIST/VG #total time (us)\n",
    "\n",
    "R_S,R_E = 0, 199 #start and end points\n",
    "L_RF = abs(R_E - R_S + 1)*DELTA #RF flipper length (cm)\n",
    "T_RF = L_RF/VG #time spent inside RF flipper (us)\n",
    "\n",
    "FREQ = 2*np.pi*.035 #angular RF frequency (rads per us)\n",
    "AMP = 2*np.pi/(T_RF*abs(GAMMA))\n",
    "B_0 = FREQ/abs(GAMMA)\n",
    "\n",
    "TAU = np.pi/(250*FREQ) #time step (us), 250 per nutation periods\n",
    "T_POINTS = round(BEAM_TIME/TAU) #number of time steps\n",
    "T = np.linspace(0,BEAM_TIME,T_POINTS) #time lattice\n",
    "\n",
    "print('Flip parameters:')\n",
    "print(f'RF freq (kHz): {round(1e3*FREQ/(2*np.pi),3)}')\n",
    "print(f'RF amp (mT): {round(AMP,3)}')\n",
    "print(f'Static field (mT): {round(B_0,3)} \\n')\n",
    "print('Fixed coil parameters:')\n",
    "print(f'Coil length (cm):  {round(L_RF,3)}')\n",
    "print(f'Flight time (us):  {round(T_RF,3)} \\n')\n",
    "print('Time parameters:')\n",
    "print(f'Time step size (ns): {round(1e3*TAU,3)}')\n",
    "print(f'RF period (us): {round(2*np.pi/FREQ,3)}')\n",
    "print(f'Nutation period (us): {round(np.pi/FREQ,3)}')\n",
    "print(f'Time steps per nutation period: {round(np.pi/FREQ/TAU,3)}')"
   ]
  },
  {
   "cell_type": "markdown",
   "id": "20f43fd9-1a3d-4767-bb0f-24830f0034c2",
   "metadata": {
    "tags": []
   },
   "source": [
    "### RF flipper models:"
   ]
  },
  {
   "cell_type": "code",
   "execution_count": null,
   "id": "758fa6c2-cd14-4994-9229-d504dcb83fcf",
   "metadata": {
    "tags": []
   },
   "outputs": [],
   "source": [
    "perfect_static = {'static':'uniform','static_parms':(R_S,R_E,(0,1,0),B_0)}\n",
    "perfect_rf = {'rf':'uniform','rf_parms':(AMP,FREQ,0)}\n",
    "\n",
    "static_10p = {'static':'gaussian','static_parms':(R_S,R_E,(0,1,0),B_0,BEAM_DIST/2,BEAM_DIST*1.09)}\n",
    "static_5p = {'static':'gaussian','static_parms':(R_S,R_E,(0,1,0),B_0,BEAM_DIST/2,BEAM_DIST*1.56)}\n",
    "static_1p = {'static':'gaussian','static_parms':(R_S,R_E,(0,1,0),B_0,BEAM_DIST/2,BEAM_DIST*3.6)}\n",
    "static_p1p = {'static':'gaussian','static_parms':(R_S,R_E,(0,1,0),B_0,BEAM_DIST/2,BEAM_DIST*10)}\n",
    "\n",
    "static_a = {'static':'gaussian','static_parms':(R_S,R_E,(0,1,0),B_0,BEAM_DIST/4,BEAM_DIST*2.5)}\n",
    "\n",
    "static_noisy = {'static':'noisy','static_parms':(R_S,R_E,(0,1,0),B_0,\\\n",
    "                [.1,.05,.05],[2*np.pi/BEAM_DIST,3*np.pi/BEAM_DIST,7*np.pi/BEAM_DIST],[np.pi,np.pi/3,np.pi/4])}\n",
    "\n",
    "static_smst = {'static':'smooth_step','static_parms':(R_S,R_S+10,R_E-10,R_E,(0,1,0),B_0)}\n",
    "\n",
    "rf_gauss = {'rf':'gaussian','rf_parms':(AMP,FREQ,0,BEAM_TIME/2,BEAM_TIME/6)}\n",
    "rf_smst = {'rf':'smooth_step','rf_parms':(AMP,FREQ,0,0,int(T_POINTS*.15),int(T_POINTS*.85),T_POINTS-1)}\n",
    "rf_smerst = {'rf':'smooth_step','rf_parms':(AMP,FREQ,0,0,int(T_POINTS*.3),int(T_POINTS*.7),T_POINTS-1)}\n",
    "rf_smestst = {'rf':'smooth_step','rf_parms':(AMP,FREQ,0,0,int(T_POINTS*.5),int(T_POINTS*.5),T_POINTS-1)}\n",
    "rf_data = {'rf':'smooth_step','rf_parms':(AMP,FREQ,0,0,int(T_POINTS*.4),int(T_POINTS*.6),T_POINTS-1)}\n",
    "rf_a = {'rf':'gaussian','rf_parms':(AMP,FREQ,0,BEAM_TIME/4,BEAM_TIME/8)}\n",
    "\n",
    "Fankang = {'static':'uniform','rf':'Fankang',\\\n",
    "           'static_parms':(R_S,R_E,(0,1,0),B_0),'rf_parms':(AMP/2,FREQ,0)}"
   ]
  },
  {
   "cell_type": "markdown",
   "id": "c15b991b-4b96-429d-8e24-64ce57a456cc",
   "metadata": {
    "tags": []
   },
   "source": [
    "### RF flipper single simulation:"
   ]
  },
  {
   "cell_type": "code",
   "execution_count": null,
   "id": "57259e14-028c-4671-b03c-8e030d090816",
   "metadata": {
    "tags": []
   },
   "outputs": [],
   "source": [
    "time_start = time.time()\n",
    "Bt = get_rf_flipper(perfect_static | perfect_rf,\\\n",
    "                    T,TAU,Z,DELTA,VG,plot=False)\n",
    "pols = do_sim(yp,Bt,T,TAU,pol_on_bt=False,plot_bt=True,plot_pol=True,\\\n",
    "           plot_Pi=(True,True,True,False),plot_Bi=(True,True,False,False))\n",
    "time_end = time.time()\n",
    "\n",
    "print(f'Sim time (sec): {round(time_end-time_start,1)} \\n')\n",
    "print(f'Static field max inhomogeneity: {round((np.max(Bt[1]) - np.min(Bt[1]))/np.max(Bt[1])*100,1)}% \\n')\n",
    "\n",
    "print(f'Minimum pol: {round(np.min(pols[:,1]),5)}')\n",
    "tmin = np.argmin(pols[:,1])\n",
    "print(f'Minimum pol at t={round(T[tmin],3)} \\n')\n",
    "\n",
    "print(f'Final pol: {round(pols[-1,1],5)}')\n",
    "print(f'Final pol at t={round(T[-1],3)}')"
   ]
  },
  {
   "cell_type": "markdown",
   "id": "d899fa34-9acb-409d-aece-ccea5f45a7ae",
   "metadata": {
    "jp-MarkdownHeadingCollapsed": true,
    "tags": []
   },
   "source": [
    "***\n",
    "# 500 kHz Gaussian Static & RF\n",
    "***"
   ]
  },
  {
   "cell_type": "code",
   "execution_count": null,
   "id": "80fccd2a-b582-4604-a588-b863f7e92035",
   "metadata": {
    "scrolled": true,
    "tags": []
   },
   "outputs": [],
   "source": [
    "time_start = time.time()\n",
    "\n",
    "parm = ('RF Freq', 'rad/us', np.linspace(FREQ-5e-2,FREQ+5e-2,21))\n",
    "GG_500_seq = [{'static':'gaussian','static_parms':(R_S,R_E,(0,1,0),B_0,BEAM_DIST/2,BEAM_DIST*3.6)}|\\\n",
    "              {'rf':'gaussian','rf_parms':(AMP,p,0,BEAM_TIME/2,BEAM_TIME/6)}\\\n",
    "              for p in parm[2]]\n",
    "PP_500_seq = [{'static':'uniform','static_parms':(R_S,R_E,(0,1,0),B_0)}|\\\n",
    "              {'rf':'uniform','rf_parms':(AMP,p,0)}\\\n",
    "              for p in parm[2]]\n",
    "f1,f2,pols1,pol2 = do_model_scan(GG_500_seq, PP_500_seq, parm, plots_scans=False,plot_tune=True,return_new=True)\n",
    "\n",
    "parm = ('RF Amp', 'mT', np.linspace(AMP,AMP+1,21))\n",
    "GG_500_seq = [{'static':'gaussian','static_parms':(R_S,R_E,(0,1,0),B_0,BEAM_DIST/2,BEAM_DIST*3.6)}|\\\n",
    "              {'rf':'gaussian','rf_parms':(p,f1,0,BEAM_TIME/2,BEAM_TIME/6)}\\\n",
    "              for p in parm[2]]\n",
    "PP_500_seq = [{'static':'uniform','static_parms':(R_S,R_E,(0,1,0),B_0)}|\\\n",
    "              {'rf':'uniform','rf_parms':(p,f2,0)}\\\n",
    "              for p in parm[2]]\n",
    "a1,a2,pols1,pol2 = do_model_scan(GG_500_seq, PP_500_seq, parm, plots_scans=False,plot_tune=True,return_new=True)\n",
    "\n",
    "parm = ('B_0', 'mT', np.linspace(B_0-.25,B_0+.25,21))\n",
    "GG_500_seq = [{'static':'gaussian','static_parms':(R_S,R_E,(0,1,0),p,BEAM_DIST/2,BEAM_DIST*3.6)}|\\\n",
    "              {'rf':'gaussian','rf_parms':(a1,f1,0,BEAM_TIME/2,BEAM_TIME/6)}\\\n",
    "              for p in parm[2]]\n",
    "PP_500_seq = [{'static':'uniform','static_parms':(R_S,R_E,(0,1,0),p)}|\\\n",
    "              {'rf':'uniform','rf_parms':(a2,f2,0)}\\\n",
    "              for p in parm[2]]\n",
    "b1,b2,pols1,pol2 = do_model_scan(GG_500_seq, PP_500_seq, parm, plots_scans=False,plot_tune=True,return_new=True)\n",
    "\n",
    "new_GG_500 = {'static':'gaussian','static_parms':(R_S,R_E,(0,1,0),b1,BEAM_DIST/2,BEAM_DIST*3.6)}|\\\n",
    "                {'rf':'gaussian','rf_parms':(a1,f1,0,BEAM_TIME/2,BEAM_TIME/6)}\n",
    "new_PP_500 = {'static':'uniform','static_parms':(R_S,R_E,(0,1,0),b2)}|\\\n",
    "                {'rf':'uniform','rf_parms':(a2,f2,0)}\n",
    "\n",
    "pols1,pols2 = model_compare(new_GG_500,new_PP_500)\n",
    "\n",
    "time_end = time.time()\n",
    "print(f'\\n Sim time (min): {round((time_end-time_start)/60.,1)}')"
   ]
  },
  {
   "cell_type": "markdown",
   "id": "e2578036-0db5-4693-86b8-3bba418b734d",
   "metadata": {},
   "source": [
    "### Getting oscillation envelope after tuning"
   ]
  },
  {
   "cell_type": "code",
   "execution_count": null,
   "id": "a514310a-ca27-4018-ae41-b6706dcf1719",
   "metadata": {
    "scrolled": true,
    "tags": []
   },
   "outputs": [],
   "source": [
    "_ = get_envelope(pols1,pols2,s=100,e=-100,plot=True)\n",
    "do_stability_check(pols1,pols2)\n",
    "do_stability_check(pols1,pols2,plot_exit=False)"
   ]
  },
  {
   "cell_type": "markdown",
   "id": "75886143-da28-4ad5-af74-cc8731e3adbb",
   "metadata": {},
   "source": [
    "### Longer static field tuning scan"
   ]
  },
  {
   "cell_type": "code",
   "execution_count": null,
   "id": "9c298836-5e8f-43f9-809b-97586dd6fc21",
   "metadata": {
    "scrolled": true,
    "tags": []
   },
   "outputs": [],
   "source": [
    "time_start = time.time()\n",
    "\n",
    "parm = ('B_0', 'mT', np.linspace(B_0-.9,B_0+.9,55)) #longer b0 tuning\n",
    "GG_500_seq = [{'static':'gaussian','static_parms':(R_S,R_E,(0,1,0),p,BEAM_DIST/2,BEAM_DIST*3.6)}|\\\n",
    "              {'rf':'gaussian','rf_parms':(a1,f1,0,BEAM_TIME/2,BEAM_TIME/6)}\\\n",
    "              for p in parm[2]]\n",
    "PP_500_seq = [{'static':'uniform','static_parms':(R_S,R_E,(0,1,0),p)}|\\\n",
    "              {'rf':'uniform','rf_parms':(a2,f2,0)}\\\n",
    "              for p in parm[2]]\n",
    "pols1,pols2 = do_model_scan(GG_500_seq, PP_500_seq, parm, plots_scans=False,plot_tune=True,return_new=False)\n",
    "\n",
    "time_end = time.time()\n",
    "print(f'\\n Sim time (min): {round((time_end-time_start)/60.,1)}')"
   ]
  },
  {
   "cell_type": "code",
   "execution_count": null,
   "id": "d4916d1d-37c3-4bbe-8b88-177ad051594c",
   "metadata": {
    "scrolled": true,
    "tags": []
   },
   "outputs": [],
   "source": [
    "def tuning_AG(t,amp,av,sig,a):\n",
    "    \"\"\"Returns asymmetric Gaussian with a sigmoidal width for static tuning curve.\"\"\"\n",
    "    scale = sig/(1+np.exp(a*(t-av)))\n",
    "    return 1-2*amp*np.exp(-(t-av)**2/(2*scale**2))\n",
    "def tuning_sig_pseudovoigt(b,amp,freq,av,sig,gamma,a,f):\n",
    "    \"\"\"Asymmeric pseudo-Voigt function for static tuning curve.\"\"\"\n",
    "    return 1-2*amp*np.cos((b-av)*freq)**2*sig_pseudovoigt(b,av,sig,gamma,a,f)[0]\n",
    "def sig_pseudovoigt(b,av,sig,gamma,a,f):\n",
    "    \"\"\"Linear mixing approximation to sig_voigt with f as the mixing parameter.\"\"\"\n",
    "    assert f>=0 and f<=1\n",
    "    G = 1/np.sqrt(2*np.pi)/sig*np.exp(-(b-av)**2/2/sig**2)\n",
    "    scale = gamma/(1+np.exp(a*(b-av)))\n",
    "    L = scale/np.pi/((b-av)**2 + scale**2)\n",
    "    L = L/simpson(L,b)\n",
    "    result = f*L + (1-f)*G\n",
    "    return result/simpson(result,b),G,L\n",
    "\n",
    "x_data = parm[2]\n",
    "y1_data = pols1[:,-1,1]\n",
    "y2_data = pols2[:,-1,1]\n",
    "\n",
    "guess1_AG = (1,17.15,.3,0)\n",
    "\n",
    "fit_AG,err_AG = curve_fit(tuning_AG,x_data,y1_data,p0=guess1_AG)#,bounds=bound)\n",
    "print(f'Fit asymmetric Gaussian: \\n [amp,av,sig,asym] \\n {np.round(fit_AG,3)}')\n",
    "print(f'Errors: \\n {np.round(np.sqrt(np.diagonal(err_AG)),3)}')\n",
    "\n",
    "fig = plt.figure(figsize=(plot_width,plot_height))\n",
    "plt.title('Fitted tuning scan')\n",
    "plt.xlabel('B_0 (mT)')\n",
    "plt.ylabel('Exit pol.')\n",
    "plt.plot(x_data,y1_data,'.',ms=10, zorder=100)\n",
    "plt.plot(x_data,y2_data,'.',ms=10,color='C2')\n",
    "plt.plot(x_data,tuning_AG(x_data,*fit_AG),linewidth=4,label='Fitted')\n",
    "plt.plot(x_data,tuning_perfect_rf(x_data,AMP,FREQ),'--',linewidth=2,label='Rabi',color='C2')\n",
    "plt.grid()\n",
    "plt.legend()\n",
    "plt.show()"
   ]
  },
  {
   "cell_type": "markdown",
   "id": "146c568f-b6c5-4a39-97df-6b96d7318423",
   "metadata": {},
   "source": [
    "The RF field in this tuning curve has a large variation, so the lorentzian peak is smeared into a Gaussian. The asymmetry in the Gaussian is due to the static field, shown in the cells below. Our data shows quite obvious sub-peaks (ie shoulders), so that tells us the rf amplitude is not really Gaussian in shape, but must be sharper."
   ]
  },
  {
   "cell_type": "markdown",
   "id": "35d81149-a41c-4e22-99e8-0b0a492e08bf",
   "metadata": {
    "jp-MarkdownHeadingCollapsed": true,
    "tags": []
   },
   "source": [
    "***\n",
    "# 1.25 MHz Gaussian Static & RF\n",
    "***"
   ]
  },
  {
   "cell_type": "code",
   "execution_count": null,
   "id": "5d8a9647-499a-4eae-93fd-86aa0fb76366",
   "metadata": {
    "scrolled": true,
    "tags": []
   },
   "outputs": [],
   "source": [
    "time_start = time.time()\n",
    "\n",
    "parm = ('RF Freq', 'rad/us', np.linspace(FREQ-5e-2,FREQ+5e-2,21))\n",
    "GG_1p25_seq = [{'static':'gaussian','static_parms':(R_S,R_E,(0,1,0),B_0,BEAM_DIST/2,BEAM_DIST*3.6)}|\\\n",
    "              {'rf':'gaussian','rf_parms':(AMP,p,0,BEAM_TIME/2,BEAM_TIME/6)}\\\n",
    "              for p in parm[2]]\n",
    "PP_1p25_seq = [{'static':'uniform','static_parms':(R_S,R_E,(0,1,0),B_0)}|\\\n",
    "              {'rf':'uniform','rf_parms':(AMP,p,0)}\\\n",
    "              for p in parm[2]]\n",
    "f1,f2,pols1,pol2 = do_model_scan(GG_1p25_seq, PP_1p25_seq, parm, plots_scans=False,plot_tune=True,return_new=True)\n",
    "\n",
    "parm = ('RF Amp', 'mT', np.linspace(AMP,AMP+1,21))\n",
    "GG_1p25_seq = [{'static':'gaussian','static_parms':(R_S,R_E,(0,1,0),B_0,BEAM_DIST/2,BEAM_DIST*3.6)}|\\\n",
    "              {'rf':'gaussian','rf_parms':(p,f1,0,BEAM_TIME/2,BEAM_TIME/6)}\\\n",
    "              for p in parm[2]]\n",
    "PP_1p25_seq = [{'static':'uniform','static_parms':(R_S,R_E,(0,1,0),B_0)}|\\\n",
    "              {'rf':'uniform','rf_parms':(p,f2,0)}\\\n",
    "              for p in parm[2]]\n",
    "a1,a2,pols1,pol2 = do_model_scan(GG_1p25_seq, PP_1p25_seq, parm, plots_scans=False,plot_tune=True,return_new=True)\n",
    "\n",
    "parm = ('B_0', 'mT', np.linspace(B_0-.25,B_0+.25,21))\n",
    "GG_1p25_seq = [{'static':'gaussian','static_parms':(R_S,R_E,(0,1,0),p,BEAM_DIST/2,BEAM_DIST*3.6)}|\\\n",
    "              {'rf':'gaussian','rf_parms':(a1,f1,0,BEAM_TIME/2,BEAM_TIME/6)}\\\n",
    "              for p in parm[2]]\n",
    "PP_1p25_seq = [{'static':'uniform','static_parms':(R_S,R_E,(0,1,0),p)}|\\\n",
    "              {'rf':'uniform','rf_parms':(a2,f2,0)}\\\n",
    "              for p in parm[2]]\n",
    "b1,b2,pols1,pol2 = do_model_scan(GG_1p25_seq, PP_1p25_seq, parm, plots_scans=False,plot_tune=True,return_new=True)\n",
    "\n",
    "new_GG_1p25 = {'static':'gaussian','static_parms':(R_S,R_E,(0,1,0),b1,BEAM_DIST/2,BEAM_DIST*3.6)}|\\\n",
    "                {'rf':'gaussian','rf_parms':(a1,f1,0,BEAM_TIME/2,BEAM_TIME/6)}\n",
    "new_PP_1p25 = {'static':'uniform','static_parms':(R_S,R_E,(0,1,0),b2)}|\\\n",
    "                {'rf':'uniform','rf_parms':(a2,f2,0)}\n",
    "\n",
    "pols1,pols2 = model_compare(new_GG_1p25,new_PP_1p25)\n",
    "\n",
    "time_end = time.time()\n",
    "print(f'\\n Sim time (min): {round((time_end-time_start)/60.,1)}')"
   ]
  },
  {
   "cell_type": "code",
   "execution_count": null,
   "id": "eeef2f0a-c46f-46ec-9c84-21bdfbdb8c72",
   "metadata": {
    "scrolled": true,
    "tags": []
   },
   "outputs": [],
   "source": [
    "_ = get_envelope(pols1,pols2,s=100,e=-100,plot=True)\n",
    "do_stability_check(pols1,pols2)\n",
    "do_stability_check(pols1,pols2,plot_exit=False)"
   ]
  },
  {
   "cell_type": "markdown",
   "id": "44a31aaf-3652-4e33-b6d6-606a9ffcf9bb",
   "metadata": {
    "jp-MarkdownHeadingCollapsed": true,
    "tags": []
   },
   "source": [
    "***\n",
    "# 2 MHz Gaussian Static & RF\n",
    "***"
   ]
  },
  {
   "cell_type": "code",
   "execution_count": null,
   "id": "e75ff6e7-3860-413f-8a25-7f13af83da64",
   "metadata": {
    "scrolled": true,
    "tags": []
   },
   "outputs": [],
   "source": [
    "time_start = time.time()\n",
    "\n",
    "parm = ('RF Freq', 'rad/us', np.linspace(FREQ-5e-2,FREQ+5e-2,21))\n",
    "GG_2_seq = [{'static':'gaussian','static_parms':(R_S,R_E,(0,1,0),B_0,BEAM_DIST/2,BEAM_DIST*3.6)}|\\\n",
    "              {'rf':'gaussian','rf_parms':(AMP,p,0,BEAM_TIME/2,BEAM_TIME/6)}\\\n",
    "              for p in parm[2]]\n",
    "PP_2_seq = [{'static':'uniform','static_parms':(R_S,R_E,(0,1,0),B_0)}|\\\n",
    "              {'rf':'uniform','rf_parms':(AMP,p,0)}\\\n",
    "              for p in parm[2]]\n",
    "f1,f2,pols1,pol2 = do_model_scan(GG_2_seq, PP_2_seq, parm, plots_scans=False,plot_tune=True,return_new=True)\n",
    "\n",
    "parm = ('RF Amp', 'mT', np.linspace(AMP,AMP+1,21))\n",
    "GG_2_seq = [{'static':'gaussian','static_parms':(R_S,R_E,(0,1,0),B_0,BEAM_DIST/2,BEAM_DIST*3.6)}|\\\n",
    "              {'rf':'gaussian','rf_parms':(p,f1,0,BEAM_TIME/2,BEAM_TIME/6)}\\\n",
    "              for p in parm[2]]\n",
    "PP_2_seq = [{'static':'uniform','static_parms':(R_S,R_E,(0,1,0),B_0)}|\\\n",
    "              {'rf':'uniform','rf_parms':(p,f2,0)}\\\n",
    "              for p in parm[2]]\n",
    "a1,a2,pols1,pol2 = do_model_scan(GG_2_seq, PP_2_seq, parm, plots_scans=False,plot_tune=True,return_new=True)\n",
    "\n",
    "parm = ('B_0', 'mT', np.linspace(B_0-.25,B_0+.25,21))\n",
    "GG_2_seq = [{'static':'gaussian','static_parms':(R_S,R_E,(0,1,0),p,BEAM_DIST/2,BEAM_DIST*3.6)}|\\\n",
    "              {'rf':'gaussian','rf_parms':(a1,f1,0,BEAM_TIME/2,BEAM_TIME/6)}\\\n",
    "              for p in parm[2]]\n",
    "PP_2_seq = [{'static':'uniform','static_parms':(R_S,R_E,(0,1,0),p)}|\\\n",
    "              {'rf':'uniform','rf_parms':(a2,f2,0)}\\\n",
    "              for p in parm[2]]\n",
    "b1,b2,pols1,pol2 = do_model_scan(GG_2_seq, PP_2_seq, parm, plots_scans=False,plot_tune=True,return_new=True)\n",
    "\n",
    "new_GG_2 = {'static':'gaussian','static_parms':(R_S,R_E,(0,1,0),b1,BEAM_DIST/2,BEAM_DIST*3.6)}|\\\n",
    "                {'rf':'gaussian','rf_parms':(a1,f1,0,BEAM_TIME/2,BEAM_TIME/6)}\n",
    "new_PP_2 = {'static':'uniform','static_parms':(R_S,R_E,(0,1,0),b2)}|\\\n",
    "                {'rf':'uniform','rf_parms':(a2,f2,0)}\n",
    "\n",
    "pols1,pols2 = model_compare(new_GG_2,new_PP_2)\n",
    "\n",
    "time_end = time.time()\n",
    "print(f'\\n Sim time (min): {round((time_end-time_start)/60.,1)}')"
   ]
  },
  {
   "cell_type": "code",
   "execution_count": null,
   "id": "74e8946f-4824-48a4-976c-3538ab558e67",
   "metadata": {
    "scrolled": true,
    "tags": []
   },
   "outputs": [],
   "source": [
    "_ = get_envelope(pols1,pols2,s=100,e=-100,plot=True)\n",
    "do_stability_check(pols1,pols2)\n",
    "do_stability_check(pols1,pols2,plot_exit=False)"
   ]
  },
  {
   "cell_type": "markdown",
   "id": "774b538c-ed11-4779-9df8-fd411159f404",
   "metadata": {
    "jp-MarkdownHeadingCollapsed": true,
    "tags": []
   },
   "source": [
    "***\n",
    "# 3 MHz Gaussian Static & RF\n",
    "***"
   ]
  },
  {
   "cell_type": "code",
   "execution_count": null,
   "id": "10926dfc-4807-4dc6-b321-1a0368f0b1be",
   "metadata": {
    "scrolled": true,
    "tags": []
   },
   "outputs": [],
   "source": [
    "time_start = time.time()\n",
    "\n",
    "parm = ('RF Freq', 'rad/us', np.linspace(FREQ-5e-2,FREQ+5e-2,21))\n",
    "GG_3_seq = [{'static':'gaussian','static_parms':(R_S,R_E,(0,1,0),B_0,BEAM_DIST/2,BEAM_DIST*3.6)}|\\\n",
    "              {'rf':'gaussian','rf_parms':(AMP,p,0,BEAM_TIME/2,BEAM_TIME/6)}\\\n",
    "              for p in parm[2]]\n",
    "PP_3_seq = [{'static':'uniform','static_parms':(R_S,R_E,(0,1,0),B_0)}|\\\n",
    "              {'rf':'uniform','rf_parms':(AMP,p,0)}\\\n",
    "              for p in parm[2]]\n",
    "f1,f2,pols1,pol2 = do_model_scan(GG_3_seq, PP_3_seq, parm, plots_scans=False,plot_tune=True,return_new=True)\n",
    "\n",
    "parm = ('RF Amp', 'mT', np.linspace(AMP,AMP+1,21))\n",
    "GG_3_seq = [{'static':'gaussian','static_parms':(R_S,R_E,(0,1,0),B_0,BEAM_DIST/2,BEAM_DIST*3.6)}|\\\n",
    "              {'rf':'gaussian','rf_parms':(p,f1,0,BEAM_TIME/2,BEAM_TIME/6)}\\\n",
    "              for p in parm[2]]\n",
    "PP_3_seq = [{'static':'uniform','static_parms':(R_S,R_E,(0,1,0),B_0)}|\\\n",
    "              {'rf':'uniform','rf_parms':(p,f2,0)}\\\n",
    "              for p in parm[2]]\n",
    "a1,a2,pols1,pol2 = do_model_scan(GG_3_seq, PP_3_seq, parm, plots_scans=False,plot_tune=True,return_new=True)\n",
    "\n",
    "parm = ('B_0', 'mT', np.linspace(B_0-.25,B_0+.25,21))\n",
    "GG_3_seq = [{'static':'gaussian','static_parms':(R_S,R_E,(0,1,0),p,BEAM_DIST/2,BEAM_DIST*3.6)}|\\\n",
    "              {'rf':'gaussian','rf_parms':(a1,f1,0,BEAM_TIME/2,BEAM_TIME/6)}\\\n",
    "              for p in parm[2]]\n",
    "PP_3_seq = [{'static':'uniform','static_parms':(R_S,R_E,(0,1,0),p)}|\\\n",
    "              {'rf':'uniform','rf_parms':(a2,f2,0)}\\\n",
    "              for p in parm[2]]\n",
    "b1,b2,pols1,pol2 = do_model_scan(GG_3_seq, PP_3_seq, parm, plots_scans=False,plot_tune=True,return_new=True)\n",
    "\n",
    "new_GG_3 = {'static':'gaussian','static_parms':(R_S,R_E,(0,1,0),b1,BEAM_DIST/2,BEAM_DIST*3.6)}|\\\n",
    "                {'rf':'gaussian','rf_parms':(a1,f1,0,BEAM_TIME/2,BEAM_TIME/6)}\n",
    "new_PP_3 = {'static':'uniform','static_parms':(R_S,R_E,(0,1,0),b2)}|\\\n",
    "                {'rf':'uniform','rf_parms':(a2,f2,0)}\n",
    "\n",
    "pols1,pols2 = model_compare(new_GG_3,new_PP_3)\n",
    "\n",
    "time_end = time.time()\n",
    "print(f'\\n Sim time (min): {round((time_end-time_start)/60.,1)}')"
   ]
  },
  {
   "cell_type": "code",
   "execution_count": null,
   "id": "9b3b9a67-eba7-4963-a18d-a119316614db",
   "metadata": {
    "scrolled": true,
    "tags": []
   },
   "outputs": [],
   "source": [
    "_ = get_envelope(pols1,pols2,s=100,e=-100,plot=True)\n",
    "do_stability_check(pols1,pols2)\n",
    "do_stability_check(pols1,pols2,plot_exit=False)"
   ]
  },
  {
   "cell_type": "markdown",
   "id": "0fdb8a5a-3fb2-4542-a147-efd52560ce1a",
   "metadata": {
    "jp-MarkdownHeadingCollapsed": true,
    "tags": []
   },
   "source": [
    "***\n",
    "# Asymmetric static field (1.25 MHz)\n",
    "***"
   ]
  },
  {
   "cell_type": "code",
   "execution_count": null,
   "id": "99424a7c-f44e-46b1-a56e-67b5ab250e7e",
   "metadata": {
    "scrolled": true,
    "tags": []
   },
   "outputs": [],
   "source": [
    "time_start = time.time()\n",
    "\n",
    "parm = ('RF Freq', 'rad/us', np.linspace(FREQ-5e-2,FREQ+5e-2,21))\n",
    "GG_2_seq = [{'static':'gaussian','static_parms':(R_S,R_E,(0,1,0),B_0,BEAM_DIST/2,BEAM_DIST*3.6)}|\\\n",
    "              {'rf':'gaussian','rf_parms':(AMP,p,0,BEAM_TIME/2,BEAM_TIME/6)}\\\n",
    "              for p in parm[2]]\n",
    "GA_2_seq = [{'static':'gaussian','static_parms':(R_S,R_E,(0,1,0),B_0,BEAM_DIST/4,BEAM_DIST*2.5)}|\\\n",
    "              {'rf':'gaussian','rf_parms':(AMP,p,0,BEAM_TIME/2,BEAM_TIME/6)}\\\n",
    "              for p in parm[2]]\n",
    "f1,f2,pols1,pol2 = do_model_scan(GG_2_seq, GA_2_seq, parm, plots_scans=False,plot_tune=True,return_new=True)\n",
    "\n",
    "parm = ('RF Amp', 'mT', np.linspace(AMP,AMP+1,21))\n",
    "GG_2_seq = [{'static':'gaussian','static_parms':(R_S,R_E,(0,1,0),B_0,BEAM_DIST/2,BEAM_DIST*3.6)}|\\\n",
    "              {'rf':'gaussian','rf_parms':(p,f1,0,BEAM_TIME/2,BEAM_TIME/6)}\\\n",
    "              for p in parm[2]]\n",
    "GA_2_seq = [{'static':'gaussian','static_parms':(R_S,R_E,(0,1,0),B_0,BEAM_DIST/4,BEAM_DIST*2.5)}|\\\n",
    "              {'rf':'gaussian','rf_parms':(p,f2,0,BEAM_TIME/2,BEAM_TIME/6)}\\\n",
    "              for p in parm[2]]\n",
    "a1,a2,pols1,pol2 = do_model_scan(GG_2_seq, GA_2_seq, parm, plots_scans=False,plot_tune=True,return_new=True)\n",
    "\n",
    "parm = ('B_0', 'mT', np.linspace(B_0-.25,B_0+.25,21))\n",
    "GG_2_seq = [{'static':'gaussian','static_parms':(R_S,R_E,(0,1,0),p,BEAM_DIST/2,BEAM_DIST*3.6)}|\\\n",
    "              {'rf':'gaussian','rf_parms':(a1,f1,0,BEAM_TIME/2,BEAM_TIME/6)}\\\n",
    "              for p in parm[2]]\n",
    "GA_2_seq = [{'static':'gaussian','static_parms':(R_S,R_E,(0,1,0),p,BEAM_DIST/4,BEAM_DIST*2.5)}|\\\n",
    "              {'rf':'gaussian','rf_parms':(a2,f2,0,BEAM_TIME/2,BEAM_TIME/6)}\\\n",
    "              for p in parm[2]]\n",
    "b1,b2,pols1,pol2 = do_model_scan(GG_2_seq, GA_2_seq, parm, plots_scans=False,plot_tune=True,return_new=True)\n",
    "\n",
    "new_GG_2 = {'static':'gaussian','static_parms':(R_S,R_E,(0,1,0),b1,BEAM_DIST/2,BEAM_DIST*3.6)}|\\\n",
    "                {'rf':'gaussian','rf_parms':(a1,f1,0,BEAM_TIME/2,BEAM_TIME/6)}\n",
    "new_GA_2 = {'static':'gaussian','static_parms':(R_S,R_E,(0,1,0),b2,BEAM_DIST/4,BEAM_DIST*2.5)}|\\\n",
    "                {'rf':'gaussian','rf_parms':(a2,f2,0,BEAM_TIME/2,BEAM_TIME/6)}\n",
    "\n",
    "pols1,pols2 = model_compare(new_GG_2,new_GA_2)\n",
    "\n",
    "time_end = time.time()\n",
    "print(f'\\n Sim time (min): {round((time_end-time_start)/60.,1)}')"
   ]
  },
  {
   "cell_type": "code",
   "execution_count": null,
   "id": "8a938317-ec3a-420e-b866-581dc1ba647f",
   "metadata": {
    "scrolled": true,
    "tags": []
   },
   "outputs": [],
   "source": [
    "_ = get_envelope(pols1,pols2,s=100,e=-100,plot=True)\n",
    "do_stability_check(pols1,pols2)\n",
    "do_stability_check(pols1,pols2,plot_exit=False)"
   ]
  },
  {
   "cell_type": "markdown",
   "id": "f3250c16-2cbb-4354-9947-064b41e8aa3e",
   "metadata": {
    "jp-MarkdownHeadingCollapsed": true,
    "tags": []
   },
   "source": [
    "***\n",
    "# Asymmetric rf field (1.25 MHz)\n",
    "***"
   ]
  },
  {
   "cell_type": "code",
   "execution_count": null,
   "id": "2010cc72-a12f-4e30-ba52-2a87807842f9",
   "metadata": {
    "scrolled": true,
    "tags": []
   },
   "outputs": [],
   "source": [
    "time_start = time.time()\n",
    "\n",
    "parm = ('RF Freq', 'rad/us', np.linspace(FREQ-5e-2,FREQ+5e-2,21))\n",
    "GG_2_seq = [{'static':'gaussian','static_parms':(R_S,R_E,(0,1,0),B_0,BEAM_DIST/2,BEAM_DIST*3.6)}|\\\n",
    "              {'rf':'gaussian','rf_parms':(AMP,p,0,BEAM_TIME/2,BEAM_TIME/6)}\\\n",
    "              for p in parm[2]]\n",
    "GA_2_seq = [{'static':'gaussian','static_parms':(R_S,R_E,(0,1,0),B_0,BEAM_DIST/4,BEAM_DIST*2.5)}|\\\n",
    "              {'rf':'gaussian','rf_parms':(AMP,p,0,BEAM_TIME/4,BEAM_TIME/8)}\\\n",
    "              for p in parm[2]]\n",
    "f1,f2,pols1,pol2 = do_model_scan(GG_2_seq, GA_2_seq, parm, plots_scans=False,plot_tune=True,return_new=True)\n",
    "\n",
    "parm = ('RF Amp', 'mT', np.linspace(AMP,AMP+1,21))\n",
    "GG_2_seq = [{'static':'gaussian','static_parms':(R_S,R_E,(0,1,0),B_0,BEAM_DIST/2,BEAM_DIST*3.6)}|\\\n",
    "              {'rf':'gaussian','rf_parms':(p,f1,0,BEAM_TIME/2,BEAM_TIME/6)}\\\n",
    "              for p in parm[2]]\n",
    "GA_2_seq = [{'static':'gaussian','static_parms':(R_S,R_E,(0,1,0),B_0,BEAM_DIST/4,BEAM_DIST*2.5)}|\\\n",
    "              {'rf':'gaussian','rf_parms':(p,f2,0,BEAM_TIME/4,BEAM_TIME/8)}\\\n",
    "              for p in parm[2]]\n",
    "a1,a2,pols1,pol2 = do_model_scan(GG_2_seq, GA_2_seq, parm, plots_scans=False,plot_tune=True,return_new=True)\n",
    "\n",
    "parm = ('B_0', 'mT', np.linspace(B_0-.25,B_0+.25,21))\n",
    "GG_2_seq = [{'static':'gaussian','static_parms':(R_S,R_E,(0,1,0),p,BEAM_DIST/2,BEAM_DIST*3.6)}|\\\n",
    "              {'rf':'gaussian','rf_parms':(a1,f1,0,BEAM_TIME/2,BEAM_TIME/6)}\\\n",
    "              for p in parm[2]]\n",
    "GA_2_seq = [{'static':'gaussian','static_parms':(R_S,R_E,(0,1,0),p,BEAM_DIST/4,BEAM_DIST*2.5)}|\\\n",
    "              {'rf':'gaussian','rf_parms':(a2,f2,0,BEAM_TIME/4,BEAM_TIME/8)}\\\n",
    "              for p in parm[2]]\n",
    "b1,b2,pols1,pol2 = do_model_scan(GG_2_seq, GA_2_seq, parm, plots_scans=False,plot_tune=True,return_new=True)\n",
    "\n",
    "new_GG_2 = {'static':'gaussian','static_parms':(R_S,R_E,(0,1,0),b1,BEAM_DIST/2,BEAM_DIST*3.6)}|\\\n",
    "                {'rf':'gaussian','rf_parms':(a1,f1,0,BEAM_TIME/2,BEAM_TIME/6)}\n",
    "new_GA_2 = {'static':'gaussian','static_parms':(R_S,R_E,(0,1,0),b2,BEAM_DIST/4,BEAM_DIST*2.5)}|\\\n",
    "                {'rf':'gaussian','rf_parms':(a2,f2,0,BEAM_TIME/4,BEAM_TIME/8)}\n",
    "\n",
    "pols1,pols2 = model_compare(new_GG_2,new_GA_2)\n",
    "\n",
    "time_end = time.time()\n",
    "print(f'\\n Sim time (min): {round((time_end-time_start)/60.,1)}')"
   ]
  },
  {
   "cell_type": "code",
   "execution_count": null,
   "id": "2b30ed50-b12d-4634-b2df-12208790f16e",
   "metadata": {
    "scrolled": true,
    "tags": []
   },
   "outputs": [],
   "source": [
    "_ = get_envelope(pols1,pols2,s=100,e=-100,plot=True)\n",
    "do_stability_check(pols1,pols2)\n",
    "do_stability_check(pols1,pols2,plot_exit=False)"
   ]
  },
  {
   "cell_type": "markdown",
   "id": "ebb1614d-baa0-4440-848f-4d31c503b056",
   "metadata": {
    "jp-MarkdownHeadingCollapsed": true,
    "tags": []
   },
   "source": [
    "***\n",
    "# Perfect static vs perfect rf (1.25 MHz):\n",
    "***"
   ]
  },
  {
   "cell_type": "code",
   "execution_count": null,
   "id": "0596e54c-8cc9-4e46-a44d-4eac9bb2e6ad",
   "metadata": {
    "scrolled": true,
    "tags": []
   },
   "outputs": [],
   "source": [
    "time_start = time.time()\n",
    "\n",
    "parm = ('RF Freq', 'rad/us', np.linspace(FREQ-5e-2,FREQ+5e-2,21))\n",
    "PS_1p25_seq = [{'static':'uniform','static_parms':(R_S,R_E,(0,1,0),B_0)}|\\\n",
    "              {'rf':'gaussian','rf_parms':(AMP,p,0,BEAM_TIME/2,BEAM_TIME/6)}\\\n",
    "              for p in parm[2]]\n",
    "PRF_1p25_seq = [{'static':'gaussian','static_parms':(R_S,R_E,(0,1,0),B_0,BEAM_DIST/2,BEAM_DIST*3.6)}|\\\n",
    "              {'rf':'uniform','rf_parms':(AMP,p,0)}\\\n",
    "              for p in parm[2]]\n",
    "f1,f2,pols1,pol2 = do_model_scan(PS_1p25_seq, PRF_1p25_seq, parm, plots_scans=False,plot_tune=True,return_new=True)\n",
    "\n",
    "parm = ('RF Amp', 'mT', np.linspace(AMP,AMP+1,21))\n",
    "PS_1p25_seq = [{'static':'uniform','static_parms':(R_S,R_E,(0,1,0),B_0)}|\\\n",
    "              {'rf':'gaussian','rf_parms':(p,f1,0,BEAM_TIME/2,BEAM_TIME/6)}\\\n",
    "              for p in parm[2]]\n",
    "PRF_1p25_seq = [{'static':'gaussian','static_parms':(R_S,R_E,(0,1,0),B_0,BEAM_DIST/2,BEAM_DIST*3.6)}|\\\n",
    "              {'rf':'uniform','rf_parms':(p,f2,0)}\\\n",
    "              for p in parm[2]]\n",
    "a1,a2,pols1,pol2 = do_model_scan(PS_1p25_seq, PRF_1p25_seq, parm, plots_scans=False,plot_tune=True,return_new=True)\n",
    "\n",
    "parm = ('B_0', 'mT', np.linspace(B_0-.25,B_0+.25,21))\n",
    "PS_1p25_seq = [{'static':'uniform','static_parms':(R_S,R_E,(0,1,0),p)}|\\\n",
    "              {'rf':'gaussian','rf_parms':(a1,f1,0,BEAM_TIME/2,BEAM_TIME/6)}\\\n",
    "              for p in parm[2]]\n",
    "PRF_1p25_seq = [{'static':'gaussian','static_parms':(R_S,R_E,(0,1,0),p,BEAM_DIST/2,BEAM_DIST*3.6)}|\\\n",
    "              {'rf':'uniform','rf_parms':(a2,f2,0)}\\\n",
    "              for p in parm[2]]\n",
    "b1,b2,pols1,pol2 = do_model_scan(PS_1p25_seq, PRF_1p25_seq, parm, plots_scans=False,plot_tune=True,return_new=True)\n",
    "\n",
    "new_PS_1p25 = {'static':'uniform','static_parms':(R_S,R_E,(0,1,0),b1)}|\\\n",
    "                {'rf':'gaussian','rf_parms':(a1,f1,0,BEAM_TIME/2,BEAM_TIME/6)}\n",
    "new_PRF_1p25 = {'static':'gaussian','static_parms':(R_S,R_E,(0,1,0),b2,BEAM_DIST/2,BEAM_DIST*3.6)}|\\\n",
    "                {'rf':'uniform','rf_parms':(a2,f2,0)}\n",
    "perfect_1p25 = {'static':'uniform','static_parms':(R_S,R_E,(0,1,0),B_0)}|\\\n",
    "                {'rf':'uniform','rf_parms':(AMP,FREQ,0)}\n",
    "\n",
    "time_end = time.time()\n",
    "print(f'\\n Sim time (min): {round((time_end-time_start)/60.,1)}')"
   ]
  },
  {
   "cell_type": "code",
   "execution_count": null,
   "id": "45f07524-7159-4449-ad7c-f96aba8b5f66",
   "metadata": {
    "scrolled": true,
    "tags": []
   },
   "outputs": [],
   "source": [
    "polsA,polsB = model_compare(new_PS_1p25,new_PRF_1p25)\n",
    "print('='*80)\n",
    "polsC,polsD = model_compare(new_PS_1p25,perfect_1p25)\n",
    "print('='*80)\n",
    "polsE,polsF = model_compare(new_PS_1p25,perfect_1p25)"
   ]
  },
  {
   "cell_type": "code",
   "execution_count": null,
   "id": "8f724e6d-3e53-4dcf-a14d-0cc00b14fde9",
   "metadata": {},
   "outputs": [],
   "source": [
    "parm = ('B_0', 'mT', np.linspace(B_0-.8,B_0+.8,51)) #longer b0 tuning\n",
    "PS_1p25_seq = [{'static':'uniform','static_parms':(R_S,R_E,(0,1,0),p)}|\\\n",
    "              {'rf':'gaussian','rf_parms':(a1,f1,0,BEAM_TIME/2,BEAM_TIME/6)}\\\n",
    "              for p in parm[2]]\n",
    "PRF_1p25_seq = [{'static':'gaussian','static_parms':(R_S,R_E,(0,1,0),p,BEAM_DIST/2,BEAM_DIST*3.6)}|\\\n",
    "              {'rf':'uniform','rf_parms':(a2,f2,0)}\\\n",
    "              for p in parm[2]]\n",
    "b1,b2,pols1,pol2 = do_model_scan(PS_1p25_seq, PRF_1p25_seq, parm, plots_scans=False,plot_tune=True,return_new=True)"
   ]
  },
  {
   "cell_type": "markdown",
   "id": "361ffffc-02f7-4bb8-8fd2-9556a090109e",
   "metadata": {
    "jp-MarkdownHeadingCollapsed": true,
    "tags": []
   },
   "source": [
    "***\n",
    "# Step function vs gaussian (1.25 MHz)\n",
    "***"
   ]
  },
  {
   "cell_type": "code",
   "execution_count": null,
   "id": "5b3aedff-bad6-46e1-9f4c-ce8cf63d9236",
   "metadata": {
    "scrolled": true,
    "tags": []
   },
   "outputs": [],
   "source": [
    "time_start = time.time()\n",
    "\n",
    "parm = ('RF Freq', 'rad/us', np.linspace(FREQ-5e-2,FREQ+5e-2,21))\n",
    "STEP_seq = [{'static':'gaussian','static_parms':(R_S,R_E,(0,1,0),B_0,BEAM_DIST/2,BEAM_DIST*3.6)}|\\\n",
    "              {'rf':'smooth_step','rf_parms':(AMP,p,0,0,int(T_POINTS*.15),int(T_POINTS*.85),T_POINTS-1)}\\\n",
    "              for p in parm[2]]\n",
    "GAUSS_seq = [{'static':'gaussian','static_parms':(R_S,R_E,(0,1,0),B_0,BEAM_DIST/2,BEAM_DIST*3.6)}|\\\n",
    "              {'rf':'gaussian','rf_parms':(AMP,p,0,BEAM_TIME/2,BEAM_TIME/6)}\\\n",
    "              for p in parm[2]]\n",
    "f1,f2,pols1,pol2 = do_model_scan(STEP_seq, GAUSS_seq, parm, plots_scans=False,plot_tune=True,return_new=True)\n",
    "\n",
    "parm = ('RF Amp', 'mT', np.linspace(AMP,AMP+1,21))\n",
    "STEP_seq = [{'static':'gaussian','static_parms':(R_S,R_E,(0,1,0),B_0,BEAM_DIST/2,BEAM_DIST*3.6)}|\\\n",
    "              {'rf':'smooth_step','rf_parms':(p,f1,0,0,int(T_POINTS*.15),int(T_POINTS*.85),T_POINTS-1)}\\\n",
    "              for p in parm[2]]\n",
    "GAUSS_seq = [{'static':'gaussian','static_parms':(R_S,R_E,(0,1,0),B_0,BEAM_DIST/2,BEAM_DIST*3.6)}|\\\n",
    "               {'rf':'gaussian','rf_parms':(p,f2,0,BEAM_TIME/2,BEAM_TIME/6)}\\\n",
    "              for p in parm[2]]\n",
    "a1,a2,pols1,pol2 = do_model_scan(STEP_seq, GAUSS_seq, parm, plots_scans=False,plot_tune=True,return_new=True)\n",
    "\n",
    "parm = ('B_0', 'mT', np.linspace(B_0-.25,B_0+.25,21))\n",
    "STEP_seq = [{'static':'gaussian','static_parms':(R_S,R_E,(0,1,0),p,BEAM_DIST/2,BEAM_DIST*3.6)}|\\\n",
    "              {'rf':'smooth_step','rf_parms':(a1,f1,0,0,int(T_POINTS*.15),int(T_POINTS*.85),T_POINTS-1)}\\\n",
    "              for p in parm[2]]\n",
    "GAUSS_seq = [{'static':'gaussian','static_parms':(R_S,R_E,(0,1,0),p,BEAM_DIST/2,BEAM_DIST*3.6)}|\\\n",
    "              {'rf':'gaussian','rf_parms':(a2,f2,0,BEAM_TIME/2,BEAM_TIME/6)}\\\n",
    "              for p in parm[2]]\n",
    "b1,b2,pols1,pol2 = do_model_scan(STEP_seq, GAUSS_seq, parm, plots_scans=False,plot_tune=True,return_new=True)\n",
    "\n",
    "new_STEP = {'static':'gaussian','static_parms':(R_S,R_E,(0,1,0),b1,BEAM_DIST/2,BEAM_DIST*3.6)}|\\\n",
    "                {'rf':'smooth_step','rf_parms':(a1,f1,0,0,int(T_POINTS*.15),int(T_POINTS*.85),T_POINTS-1)}\n",
    "new_GAUSS = {'static':'gaussian','static_parms':(R_S,R_E,(0,1,0),b2,BEAM_DIST/2,BEAM_DIST*3.6)}|\\\n",
    "                {'rf':'uniform','rf_parms':(a2,f2,0)}\n",
    "\n",
    "time_end = time.time()\n",
    "print(f'\\n Sim time (min): {round((time_end-time_start)/60.,1)}')"
   ]
  },
  {
   "cell_type": "code",
   "execution_count": null,
   "id": "1df36203-b8f6-4df9-ac35-c2884c75926a",
   "metadata": {
    "scrolled": true,
    "tags": []
   },
   "outputs": [],
   "source": [
    "parm = ('B_0', 'mT', np.linspace(B_0-.9,B_0+.9,55)) #longer b0 tuning\n",
    "STEP_seq = [{'static':'gaussian','static_parms':(R_S,R_E,(0,1,0),p,BEAM_DIST/2,BEAM_DIST*3.6)}|\\\n",
    "              {'rf':'smooth_step','rf_parms':(a1,f1,0,0,int(T_POINTS*.15),int(T_POINTS*.85),T_POINTS-1)}\\\n",
    "              for p in parm[2]]\n",
    "GAUSS_seq = [{'static':'gaussian','static_parms':(R_S,R_E,(0,1,0),p,BEAM_DIST/2,BEAM_DIST*3.6)}|\\\n",
    "              {'rf':'gaussian','rf_parms':(a2,f2,0,BEAM_TIME/2,BEAM_TIME/6)}\\\n",
    "              for p in parm[2]]\n",
    "PER_seq = [{'static':'uniform','static_parms':(R_S,R_E,(0,1,0),p)}|\\\n",
    "              {'rf':'uniform','rf_parms':(AMP,FREQ,0)}\\\n",
    "              for p in parm[2]]\n",
    "_,_,polsA,polB = do_model_scan(STEP_seq, PER_seq, parm, plots_scans=False,plot_tune=True,return_new=True)\n",
    "_,_,polsC,polB = do_model_scan(GAUSS_seq, PER_seq, parm, plots_scans=False,plot_tune=True,return_new=True)"
   ]
  },
  {
   "cell_type": "code",
   "execution_count": null,
   "id": "2288d410-e49d-4710-86fd-c405ecbc5267",
   "metadata": {},
   "outputs": [],
   "source": [
    "def tuning_sig_pseudovoigt(b,amp,freq,av,sig,gamma,a,f):\n",
    "    \"\"\"Asymmeric pseudo-Voigt function for static tuning curve.\"\"\"\n",
    "    return 1-2*amp*np.cos((b-av)*freq)**2*sig_pseudovoigt(b,av,sig,gamma,a,f)[0]\n",
    "def sig_pseudovoigt(b,av,sig,gamma,a,f):\n",
    "    \"\"\"Linear mixing approximation to sig_voigt with f as the mixing parameter.\"\"\"\n",
    "    assert f>=0 and f<=1\n",
    "    G = 1/np.sqrt(2*np.pi)/sig*np.exp(-(b-av)**2/2/sig**2)\n",
    "    scale = gamma/(1+np.exp(a*(b-av)))\n",
    "    L = scale/np.pi/((b-av)**2 + scale**2)\n",
    "    L = L/simpson(L,b)\n",
    "    result = f*L + (1-f)*G\n",
    "    return result/simpson(result,b),G,L\n",
    "\n",
    "guess = [.9, 4.5, 42.85, .2,   10,   -1,  .2]\n",
    "bound = [(0, 4,   42.75, .01,  4,   -2,   0),\\\n",
    "         (1, 5,   43,     1,   15,   2,   1)]\n",
    "\n",
    "x_data = parm[2]\n",
    "y_data = polsA[:,-1,1]\n",
    "fit_PSV,err_PSV = curve_fit(tuning_sig_pseudovoigt,x_data,y_data,p0=guess,bounds=bound)\n",
    "np.set_printoptions(suppress =True)\n",
    "print(f'Fitted modulated sigmoidal pseudo-Voigt: \\n \\\n",
    "[amplitude,frequency,average,sigma,gamma,asymmetry,fraction] \\n {np.round(fit_PSV,3)}')\n",
    "print(f'Errors: \\n {np.round(np.sqrt(np.diagonal(err_PSV)),3)}')\n",
    "\n",
    "#tuning_perfect_rf(b0,amp,freq):\n",
    "#tuning_gaussian(b0,amp,av,sig):\n",
    "\n",
    "fig = plt.figure(figsize=(plot_width,plot_height))\n",
    "plt.title('Fitted tuning scan')\n",
    "plt.xlabel('B_0 (mT)')\n",
    "plt.ylabel('Exit pol.')\n",
    "plt.plot(x_data,y_data,'.',ms=15)\n",
    "plt.plot(x_data,tuning_sig_pseudovoigt(x_data,*fit_PSV),linewidth=5,label='Fitted PSV')\n",
    "plt.plot(x_data,tuning_perfect_rf(x_data,AMP,FREQ),'--',linewidth=2.5,label='Rabi')\n",
    "plt.grid()\n",
    "plt.legend()\n",
    "plt.show()"
   ]
  },
  {
   "cell_type": "markdown",
   "id": "189a37f8-83f3-416c-aeb1-2681e66e7a68",
   "metadata": {
    "jp-MarkdownHeadingCollapsed": true,
    "tags": []
   },
   "source": [
    "***\n",
    "# Smoother step function vs gaussian (1.25 MHz)\n",
    "***"
   ]
  },
  {
   "cell_type": "code",
   "execution_count": null,
   "id": "332830d4-f42b-427e-9369-64131d13dde6",
   "metadata": {
    "scrolled": true,
    "tags": []
   },
   "outputs": [],
   "source": [
    "time_start = time.time()\n",
    "\n",
    "parm = ('RF Freq', 'rad/us', np.linspace(FREQ-5e-2,FREQ+5e-2,21))\n",
    "STEP_seq = [{'static':'gaussian','static_parms':(R_S,R_E,(0,1,0),B_0,BEAM_DIST/2,BEAM_DIST*3.6)}|\\\n",
    "              {'rf':'smooth_step','rf_parms':(AMP,p,0,0,int(T_POINTS*.3),int(T_POINTS*.7),T_POINTS-1)}\\\n",
    "              for p in parm[2]]\n",
    "GAUSS_seq = [{'static':'gaussian','static_parms':(R_S,R_E,(0,1,0),B_0,BEAM_DIST/2,BEAM_DIST*3.6)}|\\\n",
    "              {'rf':'gaussian','rf_parms':(AMP,p,0,BEAM_TIME/2,BEAM_TIME/6)}\\\n",
    "              for p in parm[2]]\n",
    "f1,f2,pols1,pol2 = do_model_scan(STEP_seq, GAUSS_seq, parm, plots_scans=False,plot_tune=True,return_new=True)\n",
    "\n",
    "parm = ('RF Amp', 'mT', np.linspace(AMP,AMP+1,21))\n",
    "STEP_seq = [{'static':'gaussian','static_parms':(R_S,R_E,(0,1,0),B_0,BEAM_DIST/2,BEAM_DIST*3.6)}|\\\n",
    "              {'rf':'smooth_step','rf_parms':(p,f1,0,0,int(T_POINTS*.3),int(T_POINTS*.7),T_POINTS-1)}\\\n",
    "              for p in parm[2]]\n",
    "GAUSS_seq = [{'static':'gaussian','static_parms':(R_S,R_E,(0,1,0),B_0,BEAM_DIST/2,BEAM_DIST*3.6)}|\\\n",
    "               {'rf':'gaussian','rf_parms':(p,f2,0,BEAM_TIME/2,BEAM_TIME/6)}\\\n",
    "              for p in parm[2]]\n",
    "a1,a2,pols1,pol2 = do_model_scan(STEP_seq, GAUSS_seq, parm, plots_scans=False,plot_tune=True,return_new=True)\n",
    "\n",
    "parm = ('B_0', 'mT', np.linspace(B_0-.25,B_0+.25,21))\n",
    "STEP_seq = [{'static':'gaussian','static_parms':(R_S,R_E,(0,1,0),p,BEAM_DIST/2,BEAM_DIST*3.6)}|\\\n",
    "              {'rf':'smooth_step','rf_parms':(a1,f1,0,0,int(T_POINTS*.3),int(T_POINTS*.7),T_POINTS-1)}\\\n",
    "              for p in parm[2]]\n",
    "GAUSS_seq = [{'static':'gaussian','static_parms':(R_S,R_E,(0,1,0),p,BEAM_DIST/2,BEAM_DIST*3.6)}|\\\n",
    "              {'rf':'gaussian','rf_parms':(a2,f2,0,BEAM_TIME/2,BEAM_TIME/6)}\\\n",
    "              for p in parm[2]]\n",
    "b1,b2,pols1,pol2 = do_model_scan(STEP_seq, GAUSS_seq, parm, plots_scans=False,plot_tune=True,return_new=True)\n",
    "\n",
    "new_STEP = {'static':'gaussian','static_parms':(R_S,R_E,(0,1,0),b1,BEAM_DIST/2,BEAM_DIST*3.6)}|\\\n",
    "                {'rf':'smooth_step','rf_parms':(a1,f1,0,0,int(T_POINTS*.3),int(T_POINTS*.7),T_POINTS-1)}\n",
    "new_GAUSS = {'static':'gaussian','static_parms':(R_S,R_E,(0,1,0),b2,BEAM_DIST/2,BEAM_DIST*3.6)}|\\\n",
    "                {'rf':'uniform','rf_parms':(a2,f2,0)}\n",
    "\n",
    "time_end = time.time()\n",
    "print(f'\\n Sim time (min): {round((time_end-time_start)/60.,1)}')"
   ]
  },
  {
   "cell_type": "code",
   "execution_count": null,
   "id": "2cea52a4-c031-43f9-b024-a780718fdd24",
   "metadata": {
    "scrolled": true,
    "tags": []
   },
   "outputs": [],
   "source": [
    "parm = ('B_0', 'mT', np.linspace(B_0-.8,B_0+.8,51)) #longer b0 tuning\n",
    "STEP_seq = [{'static':'gaussian','static_parms':(R_S,R_E,(0,1,0),p,BEAM_DIST/2,BEAM_DIST*3.6)}|\\\n",
    "              {'rf':'smooth_step','rf_parms':(a1,f1,0,0,int(T_POINTS*.3),int(T_POINTS*.7),T_POINTS-1)}\\\n",
    "              for p in parm[2]]\n",
    "GAUSS_seq = [{'static':'gaussian','static_parms':(R_S,R_E,(0,1,0),p,BEAM_DIST/2,BEAM_DIST*3.6)}|\\\n",
    "              {'rf':'gaussian','rf_parms':(a2,f2,0,BEAM_TIME/2,BEAM_TIME/6)}\\\n",
    "              for p in parm[2]]\n",
    "PER_seq = [{'static':'uniform','static_parms':(R_S,R_E,(0,1,0),p)}|\\\n",
    "              {'rf':'uniform','rf_parms':(AMP,FREQ,0)}\\\n",
    "              for p in parm[2]]\n",
    "_,_,polsA,polB = do_model_scan(STEP_seq, PER_seq, parm, plots_scans=False,plot_tune=True,return_new=True)\n",
    "_,_,polsC,polB = do_model_scan(GAUSS_seq, PER_seq, parm, plots_scans=False,plot_tune=True,return_new=True)"
   ]
  },
  {
   "cell_type": "markdown",
   "id": "3117e71c-6105-42b5-b7a5-21343a31fa0a",
   "metadata": {
    "jp-MarkdownHeadingCollapsed": true,
    "tags": []
   },
   "source": [
    "***\n",
    "# Smoothest step function vs gaussian (1.25 MHz)\n",
    "***"
   ]
  },
  {
   "cell_type": "code",
   "execution_count": null,
   "id": "4dd45bcb-4351-41f0-bc78-4d7201034c6d",
   "metadata": {
    "scrolled": true,
    "tags": []
   },
   "outputs": [],
   "source": [
    "time_start = time.time()\n",
    "\n",
    "parm = ('RF Freq', 'rad/us', np.linspace(FREQ-5e-2,FREQ+5e-2,21))\n",
    "STEP_seq = [{'static':'gaussian','static_parms':(R_S,R_E,(0,1,0),B_0,BEAM_DIST/2,BEAM_DIST*3.6)}|\\\n",
    "              {'rf':'smooth_step','rf_parms':(AMP,p,0,0,int(T_POINTS*.5),int(T_POINTS*.5),T_POINTS-1)}\\\n",
    "              for p in parm[2]]\n",
    "GAUSS_seq = [{'static':'gaussian','static_parms':(R_S,R_E,(0,1,0),B_0,BEAM_DIST/2,BEAM_DIST*3.6)}|\\\n",
    "              {'rf':'gaussian','rf_parms':(AMP,p,0,BEAM_TIME/2,BEAM_TIME/6)}\\\n",
    "              for p in parm[2]]\n",
    "f1,f2,pols1,pol2 = do_model_scan(STEP_seq, GAUSS_seq, parm, plots_scans=False,plot_tune=True,return_new=True)\n",
    "\n",
    "parm = ('RF Amp', 'mT', np.linspace(AMP,AMP+1,21))\n",
    "STEP_seq = [{'static':'gaussian','static_parms':(R_S,R_E,(0,1,0),B_0,BEAM_DIST/2,BEAM_DIST*3.6)}|\\\n",
    "              {'rf':'smooth_step','rf_parms':(p,f1,0,0,int(T_POINTS*.5),int(T_POINTS*.5),T_POINTS-1)}\\\n",
    "              for p in parm[2]]\n",
    "GAUSS_seq = [{'static':'gaussian','static_parms':(R_S,R_E,(0,1,0),B_0,BEAM_DIST/2,BEAM_DIST*3.6)}|\\\n",
    "               {'rf':'gaussian','rf_parms':(p,f2,0,BEAM_TIME/2,BEAM_TIME/6)}\\\n",
    "              for p in parm[2]]\n",
    "a1,a2,pols1,pol2 = do_model_scan(STEP_seq, GAUSS_seq, parm, plots_scans=False,plot_tune=True,return_new=True)\n",
    "\n",
    "parm = ('B_0', 'mT', np.linspace(B_0-.25,B_0+.25,21))\n",
    "STEP_seq = [{'static':'gaussian','static_parms':(R_S,R_E,(0,1,0),p,BEAM_DIST/2,BEAM_DIST*3.6)}|\\\n",
    "              {'rf':'smooth_step','rf_parms':(a1,f1,0,0,int(T_POINTS*.5),int(T_POINTS*.5),T_POINTS-1)}\\\n",
    "              for p in parm[2]]\n",
    "GAUSS_seq = [{'static':'gaussian','static_parms':(R_S,R_E,(0,1,0),p,BEAM_DIST/2,BEAM_DIST*3.6)}|\\\n",
    "              {'rf':'gaussian','rf_parms':(a2,f2,0,BEAM_TIME/2,BEAM_TIME/6)}\\\n",
    "              for p in parm[2]]\n",
    "b1,b2,pols1,pol2 = do_model_scan(STEP_seq, GAUSS_seq, parm, plots_scans=False,plot_tune=True,return_new=True)\n",
    "\n",
    "new_STEP = {'static':'gaussian','static_parms':(R_S,R_E,(0,1,0),b1,BEAM_DIST/2,BEAM_DIST*3.6)}|\\\n",
    "                {'rf':'smooth_step','rf_parms':(a1,f1,0,0,int(T_POINTS*.5),int(T_POINTS*.5),T_POINTS-1)}\n",
    "new_GAUSS = {'static':'gaussian','static_parms':(R_S,R_E,(0,1,0),b2,BEAM_DIST/2,BEAM_DIST*3.6)}|\\\n",
    "                {'rf':'uniform','rf_parms':(a2,f2,0)}\n",
    "\n",
    "time_end = time.time()\n",
    "print(f'\\n Sim time (min): {round((time_end-time_start)/60.,1)}')"
   ]
  },
  {
   "cell_type": "code",
   "execution_count": null,
   "id": "27d17e0c-302c-4fab-b51d-fe71dae06c31",
   "metadata": {
    "scrolled": true,
    "tags": []
   },
   "outputs": [],
   "source": [
    "parm = ('B_0', 'mT', np.linspace(B_0-.8,B_0+.8,51)) #longer b0 tuning\n",
    "STEP_seq = [{'static':'gaussian','static_parms':(R_S,R_E,(0,1,0),p,BEAM_DIST/2,BEAM_DIST*3.6)}|\\\n",
    "              {'rf':'smooth_step','rf_parms':(a1,f1,0,0,int(T_POINTS*.5),int(T_POINTS*.5),T_POINTS-1)}\\\n",
    "              for p in parm[2]]\n",
    "GAUSS_seq = [{'static':'gaussian','static_parms':(R_S,R_E,(0,1,0),p,BEAM_DIST/2,BEAM_DIST*3.6)}|\\\n",
    "              {'rf':'gaussian','rf_parms':(a2,f2,0,BEAM_TIME/2,BEAM_TIME/6)}\\\n",
    "              for p in parm[2]]\n",
    "PER_seq = [{'static':'uniform','static_parms':(R_S,R_E,(0,1,0),p)}|\\\n",
    "              {'rf':'uniform','rf_parms':(AMP,FREQ,0)}\\\n",
    "              for p in parm[2]]\n",
    "_,_,polsA,polB = do_model_scan(STEP_seq, PER_seq, parm, plots_scans=False,plot_tune=True,return_new=True)\n",
    "_,_,polsC,polB = do_model_scan(GAUSS_seq, PER_seq, parm, plots_scans=False,plot_tune=True,return_new=True)"
   ]
  },
  {
   "cell_type": "markdown",
   "id": "d9b600f8-c951-43b3-b276-2d21ce229d92",
   "metadata": {
    "jp-MarkdownHeadingCollapsed": true,
    "tags": []
   },
   "source": [
    "***\n",
    "# SS from data (1.25 MHz)\n",
    "***"
   ]
  },
  {
   "cell_type": "code",
   "execution_count": null,
   "id": "c5bda2e3-e049-43bd-8cef-f50b8c7c360c",
   "metadata": {
    "scrolled": true,
    "tags": []
   },
   "outputs": [],
   "source": [
    "time_start = time.time()\n",
    "\n",
    "parm = ('RF Freq', 'rad/us', np.linspace(FREQ-5e-2,FREQ+5e-2,21))\n",
    "STEP_seq = [{'static':'gaussian','static_parms':(R_S,R_E,(0,1,0),B_0,BEAM_DIST/2,BEAM_DIST*3.6)}|\\\n",
    "              {'rf':'smooth_step','rf_parms':(AMP,p,0,0,int(T_POINTS*.4),int(T_POINTS*.6),T_POINTS-1)}\\\n",
    "              for p in parm[2]]\n",
    "GAUSS_seq = [{'static':'gaussian','static_parms':(R_S,R_E,(0,1,0),B_0,BEAM_DIST/2,BEAM_DIST*3.6)}|\\\n",
    "              {'rf':'gaussian','rf_parms':(AMP,p,0,BEAM_TIME/2,BEAM_TIME/6)}\\\n",
    "              for p in parm[2]]\n",
    "f1,f2,pols1,pol2 = do_model_scan(STEP_seq, GAUSS_seq, parm, plots_scans=False,plot_tune=True,return_new=True)\n",
    "\n",
    "parm = ('RF Amp', 'mT', np.linspace(AMP,AMP+1,21))\n",
    "STEP_seq = [{'static':'gaussian','static_parms':(R_S,R_E,(0,1,0),B_0,BEAM_DIST/2,BEAM_DIST*3.6)}|\\\n",
    "              {'rf':'smooth_step','rf_parms':(p,f1,0,0,int(T_POINTS*.4),int(T_POINTS*.6),T_POINTS-1)}\\\n",
    "              for p in parm[2]]\n",
    "GAUSS_seq = [{'static':'gaussian','static_parms':(R_S,R_E,(0,1,0),B_0,BEAM_DIST/2,BEAM_DIST*3.6)}|\\\n",
    "               {'rf':'gaussian','rf_parms':(p,f2,0,BEAM_TIME/2,BEAM_TIME/6)}\\\n",
    "              for p in parm[2]]\n",
    "a1,a2,pols1,pol2 = do_model_scan(STEP_seq, GAUSS_seq, parm, plots_scans=False,plot_tune=True,return_new=True)\n",
    "\n",
    "parm = ('B_0', 'mT', np.linspace(B_0-.25,B_0+.25,21))\n",
    "STEP_seq = [{'static':'gaussian','static_parms':(R_S,R_E,(0,1,0),p,BEAM_DIST/2,BEAM_DIST*3.6)}|\\\n",
    "              {'rf':'smooth_step','rf_parms':(a1,f1,0,0,int(T_POINTS*.4),int(T_POINTS*.6),T_POINTS-1)}\\\n",
    "              for p in parm[2]]\n",
    "GAUSS_seq = [{'static':'gaussian','static_parms':(R_S,R_E,(0,1,0),p,BEAM_DIST/2,BEAM_DIST*3.6)}|\\\n",
    "              {'rf':'gaussian','rf_parms':(a2,f2,0,BEAM_TIME/2,BEAM_TIME/6)}\\\n",
    "              for p in parm[2]]\n",
    "b1,b2,pols1,pol2 = do_model_scan(STEP_seq, GAUSS_seq, parm, plots_scans=False,plot_tune=True,return_new=True)\n",
    "\n",
    "new_STEP = {'static':'gaussian','static_parms':(R_S,R_E,(0,1,0),b1,BEAM_DIST/2,BEAM_DIST*3.6)}|\\\n",
    "                {'rf':'smooth_step','rf_parms':(a1,f1,0,0,int(T_POINTS*.4),int(T_POINTS*.6),T_POINTS-1)}\n",
    "new_GAUSS = {'static':'gaussian','static_parms':(R_S,R_E,(0,1,0),b2,BEAM_DIST/2,BEAM_DIST*3.6)}|\\\n",
    "                {'rf':'uniform','rf_parms':(a2,f2,0)}\n",
    "\n",
    "time_end = time.time()\n",
    "print(f'\\n Sim time (min): {round((time_end-time_start)/60.,1)}')"
   ]
  },
  {
   "cell_type": "code",
   "execution_count": null,
   "id": "ec532050-4419-4820-81ce-f4b4dde152a7",
   "metadata": {
    "scrolled": true,
    "tags": []
   },
   "outputs": [],
   "source": [
    "parm = ('B_0', 'mT', np.linspace(B_0-.9,B_0+.9,55)) #longer b0 tuning\n",
    "STEP_seq = [{'static':'gaussian','static_parms':(R_S,R_E,(0,1,0),p,BEAM_DIST/2,BEAM_DIST*3.6)}|\\\n",
    "              {'rf':'smooth_step','rf_parms':(a1,f1,0,0,int(T_POINTS*.4),int(T_POINTS*.6),T_POINTS-1)}\\\n",
    "              for p in parm[2]]\n",
    "GAUSS_seq = [{'static':'gaussian','static_parms':(R_S,R_E,(0,1,0),p,BEAM_DIST/2,BEAM_DIST*3.6)}|\\\n",
    "              {'rf':'gaussian','rf_parms':(a2,f2,0,BEAM_TIME/2,BEAM_TIME/6)}\\\n",
    "              for p in parm[2]]\n",
    "PER_seq = [{'static':'uniform','static_parms':(R_S,R_E,(0,1,0),p)}|\\\n",
    "              {'rf':'uniform','rf_parms':(AMP,FREQ,0)}\\\n",
    "              for p in parm[2]]\n",
    "\n",
    "_,_,polsA,polB = do_model_scan(STEP_seq, PER_seq, parm, plots_scans=False,plot_tune=True,return_new=True)\n",
    "_,_,polsC,polB = do_model_scan(GAUSS_seq, PER_seq, parm, plots_scans=False,plot_tune=True,return_new=True)"
   ]
  },
  {
   "cell_type": "code",
   "execution_count": null,
   "id": "50d454c8-26e3-4799-99c6-bf6a33a9d9a4",
   "metadata": {
    "scrolled": true,
    "tags": []
   },
   "outputs": [],
   "source": [
    "guess = [.99,3,42.8,.2,6,-10,.1]\n",
    "bound = [(0,2,42,.05,1,-20,0),(1,4,43,1,15,-5,1)]\n",
    "\n",
    "x_data = parm[2]\n",
    "y_data = polsA[:,-1,1]\n",
    "fit3,err = curve_fit(tuning_sig_pseudovoigt,x_data,y_data,p0=guess,bounds=bound)\n",
    "np.set_printoptions(suppress=True)\n",
    "print(f'Fitted modulated sigmoidal pseudo-Voigt: \\n [amp,freq,av,sig,gamma,a,f] \\n {np.round(fit3,3)}')\n",
    "print(f'Errors: \\n [amp,freq,av,sig,gamma,a,f]: \\n {np.round(np.sqrt(np.diagonal(err)),3)}')\n",
    "\n",
    "fig = plt.figure(figsize=(plot_width,plot_height))\n",
    "plt.title('Fitted tuning scan')\n",
    "plt.xlabel('B_0 (mT)')\n",
    "plt.ylabel('Exit pol.')\n",
    "plt.plot(x_data,y_data,'.',ms=15)\n",
    "plt.plot(x_data,tuning_sig_pseudovoigt(x_data,*fit3),linewidth=5,label='Fitted PSV')\n",
    "plt.plot(x_data,tuning_perfect_rf(x_data,AMP,FREQ),'--',linewidth=2.5,label='Rabi')\n",
    "plt.grid()\n",
    "plt.legend()\n",
    "plt.show()"
   ]
  },
  {
   "cell_type": "markdown",
   "id": "46d416c0-8d04-441d-ade5-5beae1ed0ff4",
   "metadata": {
    "jp-MarkdownHeadingCollapsed": true,
    "tags": []
   },
   "source": [
    "***\n",
    "# Convex vs Concave static field (2 MHz):\n",
    "***"
   ]
  },
  {
   "cell_type": "code",
   "execution_count": null,
   "id": "b8b8761a-295c-41f5-ae45-5ebfa4facd5f",
   "metadata": {
    "scrolled": true,
    "tags": []
   },
   "outputs": [],
   "source": [
    "#new_freq = get_new_freq(rf_freq-8e4,rf_freq-4e4,21,real_static=True,real_amp=False)\n",
    "new_amp = rf_amp\n",
    "new_b0 = compare_b0(b_0-7.5e-4,b_0+7.5e-4,31,new_amp,new_freq,real_static=True,real_amp=False)"
   ]
  },
  {
   "cell_type": "markdown",
   "id": "0f68cdc5-7366-4b1f-81a4-286d33203bd6",
   "metadata": {
    "jp-MarkdownHeadingCollapsed": true,
    "tags": []
   },
   "source": [
    "***\n",
    "# Modeling the rf amplitude with lab data:\n",
    "***"
   ]
  },
  {
   "cell_type": "code",
   "execution_count": null,
   "id": "b3100d7b-43fd-407d-9a3c-1f49e7ee2e7a",
   "metadata": {
    "tags": []
   },
   "outputs": [],
   "source": [
    "def fs(z,R,start,end):\n",
    "    temp = ((z-start)/np.sqrt((z-start)**2 + R**2) - (z-end)/np.sqrt((z-end)**2 + R**2))\n",
    "    return 1/np.max(temp)*temp\n",
    "\n",
    "real_rf = [12.32567932,12.32086105,12.31193595,12.29454577,12.26900429,12.23531153,12.19346747,12.14347213,12.08532549,\\\n",
    "           12.01902756,11.93720972,11.84662874,11.74309357,11.62420775,11.48997126,11.34038411,11.1754463,10.98867451,\\\n",
    "           10.77982848,10.54901546,10.2988534,10.02202053,9.71851683,9.388342316,9.031496982,8.64798083,8.237793859,\\\n",
    "           7.806084708,7.342475923,6.864145888,6.371094603,5.863322069,5.340828286,4.803613252,4.281318755,3.754428023,\\\n",
    "           3.232455925,2.716295675,2.209035134,1.710843131,1.220842601]\n",
    "real_rf = real_rf/np.max(real_rf)\n",
    "pos = np.linspace(.036,-.04,41)\n",
    "\n",
    "fig = plt.figure(figsize=(plot_width,plot_height))\n",
    "plt.plot(pos,real_rf,linewidth=5)\n",
    "plt.plot(pos,fs(pos,0.02,-.02,.09),linewidth=5)\n",
    "plt.grid()\n",
    "plt.show()"
   ]
  },
  {
   "cell_type": "code",
   "execution_count": null,
   "id": "0e895e00-2377-401e-87f4-a0b336488f42",
   "metadata": {},
   "outputs": [],
   "source": [
    "x,a0,a1,a2,a3,x1,x2 = sym.symbols('x,a_0,a_1,a_2,a_3,x_1,x_2', real=True)\n",
    "\n",
    "def s(x,a0,a1,a2,a3):\n",
    "    return a3*x**3 + a2*x**2 + a1*x + a0\n",
    "def sp(x,a1,a2,a3):\n",
    "    return 3*a3*x**2 + 2*a2*x + a1\n",
    "\n",
    "eq1 = sym.Eq(s(x1,a0,a1,a2,a3),0)\n",
    "eq2 = sym.Eq(s(x2,a0,a1,a2,a3),1)\n",
    "eq3 = sym.Eq(sp(x1,a1,a2,a3),0)\n",
    "eq4 = sym.Eq(sp(x2,a1,a2,a3),0)\n",
    "\n",
    "display(eq1)\n",
    "display(eq2)\n",
    "display(eq3)\n",
    "display(eq4)\n",
    "\n",
    "sol = sym.solve((eq1,eq2,eq3,eq4),(a0,a1,a2,a3))\n",
    "display(sol)"
   ]
  },
  {
   "cell_type": "markdown",
   "id": "c5674b7f-0952-4357-86e0-e1fb076e2979",
   "metadata": {
    "jp-MarkdownHeadingCollapsed": true,
    "tags": []
   },
   "source": [
    "***\n",
    "# Miscellaneous calculations\n",
    "***"
   ]
  },
  {
   "cell_type": "code",
   "execution_count": null,
   "id": "0b7a5683-0006-4c34-8dbd-544aba6e43a8",
   "metadata": {},
   "outputs": [],
   "source": [
    "def doppler(freq, v): #checking the strength of the Doppler effect\n",
    "    new_freq = (1+v/2.99e8)*freq\n",
    "    return new_freq\n",
    "print(f'New frequency: {round(doppler(4e6,989),1)}')"
   ]
  },
  {
   "cell_type": "code",
   "execution_count": null,
   "id": "b0e5eeb6-36de-4f64-a947-a6f0f81d3d73",
   "metadata": {},
   "outputs": [],
   "source": [
    "def irr(freq,n,I,a): #checking the power radiated, from Zangwill E&M\n",
    "    return 1/2*4*np.pi*1e-7*(n*I*np.pi*a*sc.special.jv(1,freq*a/3e8))**2*freq\n",
    "\n",
    "print(f'Power irradiated (Watts): {round(irr(2*np.pi*4e6,1e3,1,.02),3)}')"
   ]
  },
  {
   "cell_type": "code",
   "execution_count": null,
   "id": "b4cb4865-f0b1-43f0-85b1-09c17af919c2",
   "metadata": {},
   "outputs": [],
   "source": [
    "ham = sym.Matrix([[Bz*hbar*g/2,hbar*g/2*Bx/2],\\\n",
    "                           [hbar*g/2*Bx/2,-Bz*hbar*g/2]]) - td #gamma is positive here\n",
    "print('Hamiltonian:')\n",
    "display(ham)\n",
    "unitary = sym.exp(-sym.I/hbar*t*ham)\n",
    "display(unitary.simplify())"
   ]
  },
  {
   "cell_type": "code",
   "execution_count": null,
   "id": "39c707a0-7b22-43fa-88c7-d614e657a813",
   "metadata": {},
   "outputs": [],
   "source": []
  }
 ],
 "metadata": {
  "kernelspec": {
   "display_name": "Python 3 (ipykernel)",
   "language": "python",
   "name": "python3"
  },
  "language_info": {
   "codemirror_mode": {
    "name": "ipython",
    "version": 3
   },
   "file_extension": ".py",
   "mimetype": "text/x-python",
   "name": "python",
   "nbconvert_exporter": "python",
   "pygments_lexer": "ipython3",
   "version": "3.12.0"
  }
 },
 "nbformat": 4,
 "nbformat_minor": 5
}
